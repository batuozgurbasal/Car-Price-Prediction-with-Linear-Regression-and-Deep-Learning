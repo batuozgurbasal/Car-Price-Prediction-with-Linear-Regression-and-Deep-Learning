{
  "nbformat": 4,
  "nbformat_minor": 0,
  "metadata": {
    "colab": {
      "provenance": [],
      "collapsed_sections": []
    },
    "kernelspec": {
      "name": "python3",
      "display_name": "Python 3"
    },
    "language_info": {
      "name": "python"
    }
  },
  "cells": [
    {
      "cell_type": "markdown",
      "source": [
        "**Importing Pandas library and reading the car price dataset**"
      ],
      "metadata": {
        "id": "3N6KfAn0QIer"
      }
    },
    {
      "cell_type": "code",
      "execution_count": 1,
      "metadata": {
        "id": "ySYRAHNnPnh-"
      },
      "outputs": [],
      "source": [
        "import pandas as pd \n",
        "df = pd.read_csv('/content/CarPrice_Assignment.csv')"
      ]
    },
    {
      "cell_type": "code",
      "source": [
        "df.head()"
      ],
      "metadata": {
        "colab": {
          "base_uri": "https://localhost:8080/",
          "height": 352
        },
        "id": "jKy4cYeGQQUd",
        "outputId": "bc9d39fd-b084-4940-c793-b08fb9901274"
      },
      "execution_count": 2,
      "outputs": [
        {
          "output_type": "execute_result",
          "data": {
            "text/plain": [
              "   car_ID  symboling                   CarName fueltype aspiration doornumber  \\\n",
              "0       1          3        alfa-romero giulia      gas        std        two   \n",
              "1       2          3       alfa-romero stelvio      gas        std        two   \n",
              "2       3          1  alfa-romero Quadrifoglio      gas        std        two   \n",
              "3       4          2               audi 100 ls      gas        std       four   \n",
              "4       5          2                audi 100ls      gas        std       four   \n",
              "\n",
              "       carbody drivewheel enginelocation  wheelbase  ...  enginesize  \\\n",
              "0  convertible        rwd          front       88.6  ...         130   \n",
              "1  convertible        rwd          front       88.6  ...         130   \n",
              "2    hatchback        rwd          front       94.5  ...         152   \n",
              "3        sedan        fwd          front       99.8  ...         109   \n",
              "4        sedan        4wd          front       99.4  ...         136   \n",
              "\n",
              "   fuelsystem  boreratio  stroke compressionratio horsepower  peakrpm citympg  \\\n",
              "0        mpfi       3.47    2.68              9.0        111     5000      21   \n",
              "1        mpfi       3.47    2.68              9.0        111     5000      21   \n",
              "2        mpfi       2.68    3.47              9.0        154     5000      19   \n",
              "3        mpfi       3.19    3.40             10.0        102     5500      24   \n",
              "4        mpfi       3.19    3.40              8.0        115     5500      18   \n",
              "\n",
              "   highwaympg    price  \n",
              "0          27  13495.0  \n",
              "1          27  16500.0  \n",
              "2          26  16500.0  \n",
              "3          30  13950.0  \n",
              "4          22  17450.0  \n",
              "\n",
              "[5 rows x 26 columns]"
            ],
            "text/html": [
              "\n",
              "  <div id=\"df-e14192b8-c599-4458-9d57-e4e47adaf47f\">\n",
              "    <div class=\"colab-df-container\">\n",
              "      <div>\n",
              "<style scoped>\n",
              "    .dataframe tbody tr th:only-of-type {\n",
              "        vertical-align: middle;\n",
              "    }\n",
              "\n",
              "    .dataframe tbody tr th {\n",
              "        vertical-align: top;\n",
              "    }\n",
              "\n",
              "    .dataframe thead th {\n",
              "        text-align: right;\n",
              "    }\n",
              "</style>\n",
              "<table border=\"1\" class=\"dataframe\">\n",
              "  <thead>\n",
              "    <tr style=\"text-align: right;\">\n",
              "      <th></th>\n",
              "      <th>car_ID</th>\n",
              "      <th>symboling</th>\n",
              "      <th>CarName</th>\n",
              "      <th>fueltype</th>\n",
              "      <th>aspiration</th>\n",
              "      <th>doornumber</th>\n",
              "      <th>carbody</th>\n",
              "      <th>drivewheel</th>\n",
              "      <th>enginelocation</th>\n",
              "      <th>wheelbase</th>\n",
              "      <th>...</th>\n",
              "      <th>enginesize</th>\n",
              "      <th>fuelsystem</th>\n",
              "      <th>boreratio</th>\n",
              "      <th>stroke</th>\n",
              "      <th>compressionratio</th>\n",
              "      <th>horsepower</th>\n",
              "      <th>peakrpm</th>\n",
              "      <th>citympg</th>\n",
              "      <th>highwaympg</th>\n",
              "      <th>price</th>\n",
              "    </tr>\n",
              "  </thead>\n",
              "  <tbody>\n",
              "    <tr>\n",
              "      <th>0</th>\n",
              "      <td>1</td>\n",
              "      <td>3</td>\n",
              "      <td>alfa-romero giulia</td>\n",
              "      <td>gas</td>\n",
              "      <td>std</td>\n",
              "      <td>two</td>\n",
              "      <td>convertible</td>\n",
              "      <td>rwd</td>\n",
              "      <td>front</td>\n",
              "      <td>88.6</td>\n",
              "      <td>...</td>\n",
              "      <td>130</td>\n",
              "      <td>mpfi</td>\n",
              "      <td>3.47</td>\n",
              "      <td>2.68</td>\n",
              "      <td>9.0</td>\n",
              "      <td>111</td>\n",
              "      <td>5000</td>\n",
              "      <td>21</td>\n",
              "      <td>27</td>\n",
              "      <td>13495.0</td>\n",
              "    </tr>\n",
              "    <tr>\n",
              "      <th>1</th>\n",
              "      <td>2</td>\n",
              "      <td>3</td>\n",
              "      <td>alfa-romero stelvio</td>\n",
              "      <td>gas</td>\n",
              "      <td>std</td>\n",
              "      <td>two</td>\n",
              "      <td>convertible</td>\n",
              "      <td>rwd</td>\n",
              "      <td>front</td>\n",
              "      <td>88.6</td>\n",
              "      <td>...</td>\n",
              "      <td>130</td>\n",
              "      <td>mpfi</td>\n",
              "      <td>3.47</td>\n",
              "      <td>2.68</td>\n",
              "      <td>9.0</td>\n",
              "      <td>111</td>\n",
              "      <td>5000</td>\n",
              "      <td>21</td>\n",
              "      <td>27</td>\n",
              "      <td>16500.0</td>\n",
              "    </tr>\n",
              "    <tr>\n",
              "      <th>2</th>\n",
              "      <td>3</td>\n",
              "      <td>1</td>\n",
              "      <td>alfa-romero Quadrifoglio</td>\n",
              "      <td>gas</td>\n",
              "      <td>std</td>\n",
              "      <td>two</td>\n",
              "      <td>hatchback</td>\n",
              "      <td>rwd</td>\n",
              "      <td>front</td>\n",
              "      <td>94.5</td>\n",
              "      <td>...</td>\n",
              "      <td>152</td>\n",
              "      <td>mpfi</td>\n",
              "      <td>2.68</td>\n",
              "      <td>3.47</td>\n",
              "      <td>9.0</td>\n",
              "      <td>154</td>\n",
              "      <td>5000</td>\n",
              "      <td>19</td>\n",
              "      <td>26</td>\n",
              "      <td>16500.0</td>\n",
              "    </tr>\n",
              "    <tr>\n",
              "      <th>3</th>\n",
              "      <td>4</td>\n",
              "      <td>2</td>\n",
              "      <td>audi 100 ls</td>\n",
              "      <td>gas</td>\n",
              "      <td>std</td>\n",
              "      <td>four</td>\n",
              "      <td>sedan</td>\n",
              "      <td>fwd</td>\n",
              "      <td>front</td>\n",
              "      <td>99.8</td>\n",
              "      <td>...</td>\n",
              "      <td>109</td>\n",
              "      <td>mpfi</td>\n",
              "      <td>3.19</td>\n",
              "      <td>3.40</td>\n",
              "      <td>10.0</td>\n",
              "      <td>102</td>\n",
              "      <td>5500</td>\n",
              "      <td>24</td>\n",
              "      <td>30</td>\n",
              "      <td>13950.0</td>\n",
              "    </tr>\n",
              "    <tr>\n",
              "      <th>4</th>\n",
              "      <td>5</td>\n",
              "      <td>2</td>\n",
              "      <td>audi 100ls</td>\n",
              "      <td>gas</td>\n",
              "      <td>std</td>\n",
              "      <td>four</td>\n",
              "      <td>sedan</td>\n",
              "      <td>4wd</td>\n",
              "      <td>front</td>\n",
              "      <td>99.4</td>\n",
              "      <td>...</td>\n",
              "      <td>136</td>\n",
              "      <td>mpfi</td>\n",
              "      <td>3.19</td>\n",
              "      <td>3.40</td>\n",
              "      <td>8.0</td>\n",
              "      <td>115</td>\n",
              "      <td>5500</td>\n",
              "      <td>18</td>\n",
              "      <td>22</td>\n",
              "      <td>17450.0</td>\n",
              "    </tr>\n",
              "  </tbody>\n",
              "</table>\n",
              "<p>5 rows × 26 columns</p>\n",
              "</div>\n",
              "      <button class=\"colab-df-convert\" onclick=\"convertToInteractive('df-e14192b8-c599-4458-9d57-e4e47adaf47f')\"\n",
              "              title=\"Convert this dataframe to an interactive table.\"\n",
              "              style=\"display:none;\">\n",
              "        \n",
              "  <svg xmlns=\"http://www.w3.org/2000/svg\" height=\"24px\"viewBox=\"0 0 24 24\"\n",
              "       width=\"24px\">\n",
              "    <path d=\"M0 0h24v24H0V0z\" fill=\"none\"/>\n",
              "    <path d=\"M18.56 5.44l.94 2.06.94-2.06 2.06-.94-2.06-.94-.94-2.06-.94 2.06-2.06.94zm-11 1L8.5 8.5l.94-2.06 2.06-.94-2.06-.94L8.5 2.5l-.94 2.06-2.06.94zm10 10l.94 2.06.94-2.06 2.06-.94-2.06-.94-.94-2.06-.94 2.06-2.06.94z\"/><path d=\"M17.41 7.96l-1.37-1.37c-.4-.4-.92-.59-1.43-.59-.52 0-1.04.2-1.43.59L10.3 9.45l-7.72 7.72c-.78.78-.78 2.05 0 2.83L4 21.41c.39.39.9.59 1.41.59.51 0 1.02-.2 1.41-.59l7.78-7.78 2.81-2.81c.8-.78.8-2.07 0-2.86zM5.41 20L4 18.59l7.72-7.72 1.47 1.35L5.41 20z\"/>\n",
              "  </svg>\n",
              "      </button>\n",
              "      \n",
              "  <style>\n",
              "    .colab-df-container {\n",
              "      display:flex;\n",
              "      flex-wrap:wrap;\n",
              "      gap: 12px;\n",
              "    }\n",
              "\n",
              "    .colab-df-convert {\n",
              "      background-color: #E8F0FE;\n",
              "      border: none;\n",
              "      border-radius: 50%;\n",
              "      cursor: pointer;\n",
              "      display: none;\n",
              "      fill: #1967D2;\n",
              "      height: 32px;\n",
              "      padding: 0 0 0 0;\n",
              "      width: 32px;\n",
              "    }\n",
              "\n",
              "    .colab-df-convert:hover {\n",
              "      background-color: #E2EBFA;\n",
              "      box-shadow: 0px 1px 2px rgba(60, 64, 67, 0.3), 0px 1px 3px 1px rgba(60, 64, 67, 0.15);\n",
              "      fill: #174EA6;\n",
              "    }\n",
              "\n",
              "    [theme=dark] .colab-df-convert {\n",
              "      background-color: #3B4455;\n",
              "      fill: #D2E3FC;\n",
              "    }\n",
              "\n",
              "    [theme=dark] .colab-df-convert:hover {\n",
              "      background-color: #434B5C;\n",
              "      box-shadow: 0px 1px 3px 1px rgba(0, 0, 0, 0.15);\n",
              "      filter: drop-shadow(0px 1px 2px rgba(0, 0, 0, 0.3));\n",
              "      fill: #FFFFFF;\n",
              "    }\n",
              "  </style>\n",
              "\n",
              "      <script>\n",
              "        const buttonEl =\n",
              "          document.querySelector('#df-e14192b8-c599-4458-9d57-e4e47adaf47f button.colab-df-convert');\n",
              "        buttonEl.style.display =\n",
              "          google.colab.kernel.accessAllowed ? 'block' : 'none';\n",
              "\n",
              "        async function convertToInteractive(key) {\n",
              "          const element = document.querySelector('#df-e14192b8-c599-4458-9d57-e4e47adaf47f');\n",
              "          const dataTable =\n",
              "            await google.colab.kernel.invokeFunction('convertToInteractive',\n",
              "                                                     [key], {});\n",
              "          if (!dataTable) return;\n",
              "\n",
              "          const docLinkHtml = 'Like what you see? Visit the ' +\n",
              "            '<a target=\"_blank\" href=https://colab.research.google.com/notebooks/data_table.ipynb>data table notebook</a>'\n",
              "            + ' to learn more about interactive tables.';\n",
              "          element.innerHTML = '';\n",
              "          dataTable['output_type'] = 'display_data';\n",
              "          await google.colab.output.renderOutput(dataTable, element);\n",
              "          const docLink = document.createElement('div');\n",
              "          docLink.innerHTML = docLinkHtml;\n",
              "          element.appendChild(docLink);\n",
              "        }\n",
              "      </script>\n",
              "    </div>\n",
              "  </div>\n",
              "  "
            ]
          },
          "metadata": {},
          "execution_count": 2
        }
      ]
    },
    {
      "cell_type": "code",
      "source": [
        "df.info()"
      ],
      "metadata": {
        "colab": {
          "base_uri": "https://localhost:8080/"
        },
        "id": "0MctaUhtRGJP",
        "outputId": "e8238be0-1ade-458d-e4cd-91ce4b23794c"
      },
      "execution_count": 3,
      "outputs": [
        {
          "output_type": "stream",
          "name": "stdout",
          "text": [
            "<class 'pandas.core.frame.DataFrame'>\n",
            "RangeIndex: 205 entries, 0 to 204\n",
            "Data columns (total 26 columns):\n",
            " #   Column            Non-Null Count  Dtype  \n",
            "---  ------            --------------  -----  \n",
            " 0   car_ID            205 non-null    int64  \n",
            " 1   symboling         205 non-null    int64  \n",
            " 2   CarName           205 non-null    object \n",
            " 3   fueltype          205 non-null    object \n",
            " 4   aspiration        205 non-null    object \n",
            " 5   doornumber        205 non-null    object \n",
            " 6   carbody           205 non-null    object \n",
            " 7   drivewheel        205 non-null    object \n",
            " 8   enginelocation    205 non-null    object \n",
            " 9   wheelbase         205 non-null    float64\n",
            " 10  carlength         205 non-null    float64\n",
            " 11  carwidth          205 non-null    float64\n",
            " 12  carheight         205 non-null    float64\n",
            " 13  curbweight        205 non-null    int64  \n",
            " 14  enginetype        205 non-null    object \n",
            " 15  cylindernumber    205 non-null    object \n",
            " 16  enginesize        205 non-null    int64  \n",
            " 17  fuelsystem        205 non-null    object \n",
            " 18  boreratio         205 non-null    float64\n",
            " 19  stroke            205 non-null    float64\n",
            " 20  compressionratio  205 non-null    float64\n",
            " 21  horsepower        205 non-null    int64  \n",
            " 22  peakrpm           205 non-null    int64  \n",
            " 23  citympg           205 non-null    int64  \n",
            " 24  highwaympg        205 non-null    int64  \n",
            " 25  price             205 non-null    float64\n",
            "dtypes: float64(8), int64(8), object(10)\n",
            "memory usage: 41.8+ KB\n"
          ]
        }
      ]
    },
    {
      "cell_type": "markdown",
      "source": [
        "**Observations:**\n",
        "\n",
        "- There is no null values.\n",
        "- car id feature might be useless.\n",
        "- There are object columns from 2nd to 8th columns\n",
        "- Scaling will be needed."
      ],
      "metadata": {
        "id": "Ot-qs8VcRP1u"
      }
    },
    {
      "cell_type": "markdown",
      "source": [
        "#Data Cleaning "
      ],
      "metadata": {
        "id": "uu9MT9NKRlN7"
      }
    },
    {
      "cell_type": "code",
      "source": [
        "# Dropping the car_ID value since it does not have an impact on car prices.\n",
        "df.drop('car_ID',axis = 1, inplace= True)"
      ],
      "metadata": {
        "id": "DXd6jpxqRkAQ"
      },
      "execution_count": 4,
      "outputs": []
    },
    {
      "cell_type": "code",
      "source": [
        "df.CarName.unique()"
      ],
      "metadata": {
        "colab": {
          "base_uri": "https://localhost:8080/"
        },
        "id": "P-mZLAZfR1u_",
        "outputId": "529911b5-b59b-4982-805b-394eba80ad24"
      },
      "execution_count": 5,
      "outputs": [
        {
          "output_type": "execute_result",
          "data": {
            "text/plain": [
              "array(['alfa-romero giulia', 'alfa-romero stelvio',\n",
              "       'alfa-romero Quadrifoglio', 'audi 100 ls', 'audi 100ls',\n",
              "       'audi fox', 'audi 5000', 'audi 4000', 'audi 5000s (diesel)',\n",
              "       'bmw 320i', 'bmw x1', 'bmw x3', 'bmw z4', 'bmw x4', 'bmw x5',\n",
              "       'chevrolet impala', 'chevrolet monte carlo', 'chevrolet vega 2300',\n",
              "       'dodge rampage', 'dodge challenger se', 'dodge d200',\n",
              "       'dodge monaco (sw)', 'dodge colt hardtop', 'dodge colt (sw)',\n",
              "       'dodge coronet custom', 'dodge dart custom',\n",
              "       'dodge coronet custom (sw)', 'honda civic', 'honda civic cvcc',\n",
              "       'honda accord cvcc', 'honda accord lx', 'honda civic 1500 gl',\n",
              "       'honda accord', 'honda civic 1300', 'honda prelude',\n",
              "       'honda civic (auto)', 'isuzu MU-X', 'isuzu D-Max ',\n",
              "       'isuzu D-Max V-Cross', 'jaguar xj', 'jaguar xf', 'jaguar xk',\n",
              "       'maxda rx3', 'maxda glc deluxe', 'mazda rx2 coupe', 'mazda rx-4',\n",
              "       'mazda glc deluxe', 'mazda 626', 'mazda glc', 'mazda rx-7 gs',\n",
              "       'mazda glc 4', 'mazda glc custom l', 'mazda glc custom',\n",
              "       'buick electra 225 custom', 'buick century luxus (sw)',\n",
              "       'buick century', 'buick skyhawk', 'buick opel isuzu deluxe',\n",
              "       'buick skylark', 'buick century special',\n",
              "       'buick regal sport coupe (turbo)', 'mercury cougar',\n",
              "       'mitsubishi mirage', 'mitsubishi lancer', 'mitsubishi outlander',\n",
              "       'mitsubishi g4', 'mitsubishi mirage g4', 'mitsubishi montero',\n",
              "       'mitsubishi pajero', 'Nissan versa', 'nissan gt-r', 'nissan rogue',\n",
              "       'nissan latio', 'nissan titan', 'nissan leaf', 'nissan juke',\n",
              "       'nissan note', 'nissan clipper', 'nissan nv200', 'nissan dayz',\n",
              "       'nissan fuga', 'nissan otti', 'nissan teana', 'nissan kicks',\n",
              "       'peugeot 504', 'peugeot 304', 'peugeot 504 (sw)', 'peugeot 604sl',\n",
              "       'peugeot 505s turbo diesel', 'plymouth fury iii',\n",
              "       'plymouth cricket', 'plymouth satellite custom (sw)',\n",
              "       'plymouth fury gran sedan', 'plymouth valiant', 'plymouth duster',\n",
              "       'porsche macan', 'porcshce panamera', 'porsche cayenne',\n",
              "       'porsche boxter', 'renault 12tl', 'renault 5 gtl', 'saab 99e',\n",
              "       'saab 99le', 'saab 99gle', 'subaru', 'subaru dl', 'subaru brz',\n",
              "       'subaru baja', 'subaru r1', 'subaru r2', 'subaru trezia',\n",
              "       'subaru tribeca', 'toyota corona mark ii', 'toyota corona',\n",
              "       'toyota corolla 1200', 'toyota corona hardtop',\n",
              "       'toyota corolla 1600 (sw)', 'toyota carina', 'toyota mark ii',\n",
              "       'toyota corolla', 'toyota corolla liftback',\n",
              "       'toyota celica gt liftback', 'toyota corolla tercel',\n",
              "       'toyota corona liftback', 'toyota starlet', 'toyota tercel',\n",
              "       'toyota cressida', 'toyota celica gt', 'toyouta tercel',\n",
              "       'vokswagen rabbit', 'volkswagen 1131 deluxe sedan',\n",
              "       'volkswagen model 111', 'volkswagen type 3', 'volkswagen 411 (sw)',\n",
              "       'volkswagen super beetle', 'volkswagen dasher', 'vw dasher',\n",
              "       'vw rabbit', 'volkswagen rabbit', 'volkswagen rabbit custom',\n",
              "       'volvo 145e (sw)', 'volvo 144ea', 'volvo 244dl', 'volvo 245',\n",
              "       'volvo 264gl', 'volvo diesel', 'volvo 246'], dtype=object)"
            ]
          },
          "metadata": {},
          "execution_count": 5
        }
      ]
    },
    {
      "cell_type": "code",
      "source": [
        "# Obtaining the unique car brands\n",
        "df['CarName'] = df['CarName'].str.split().str[0]\n",
        "print(df['CarName'].unique())"
      ],
      "metadata": {
        "colab": {
          "base_uri": "https://localhost:8080/"
        },
        "id": "qodFOP3DSVLm",
        "outputId": "91c94ffd-e24f-45b8-840b-0ea70a2729ce"
      },
      "execution_count": 6,
      "outputs": [
        {
          "output_type": "stream",
          "name": "stdout",
          "text": [
            "['alfa-romero' 'audi' 'bmw' 'chevrolet' 'dodge' 'honda' 'isuzu' 'jaguar'\n",
            " 'maxda' 'mazda' 'buick' 'mercury' 'mitsubishi' 'Nissan' 'nissan'\n",
            " 'peugeot' 'plymouth' 'porsche' 'porcshce' 'renault' 'saab' 'subaru'\n",
            " 'toyota' 'toyouta' 'vokswagen' 'volkswagen' 'vw' 'volvo']\n"
          ]
        }
      ]
    },
    {
      "cell_type": "code",
      "source": [
        "# Avoidong inconsistent feature names \n",
        "df.loc[df['CarName'] == 'maxda', 'CarName'] = 'mazda'\n",
        "df.loc[df['CarName'] == 'Nissan', 'CarName'] = 'nissan'\n",
        "df.loc[df['CarName'] == 'porcshce', 'CarName'] = 'porsche'\n",
        "df.loc[df['CarName'] == 'toyouta', 'CarName'] = 'toyota'\n",
        "df.loc[df['CarName'] == 'vokswagen', 'CarName'] = 'volkswagen'\n",
        "df.loc[df['CarName'] == 'vw', 'CarName'] = 'volkswagen'\n",
        "print(df['CarName'].unique())"
      ],
      "metadata": {
        "colab": {
          "base_uri": "https://localhost:8080/"
        },
        "id": "hguCD4eJSxxX",
        "outputId": "af509ee0-f1c9-4348-c9de-fd3501f4aafd"
      },
      "execution_count": 7,
      "outputs": [
        {
          "output_type": "stream",
          "name": "stdout",
          "text": [
            "['alfa-romero' 'audi' 'bmw' 'chevrolet' 'dodge' 'honda' 'isuzu' 'jaguar'\n",
            " 'mazda' 'buick' 'mercury' 'mitsubishi' 'nissan' 'peugeot' 'plymouth'\n",
            " 'porsche' 'renault' 'saab' 'subaru' 'toyota' 'volkswagen' 'volvo']\n"
          ]
        }
      ]
    },
    {
      "cell_type": "code",
      "source": [
        "# Checking each columns if there are duplicated values \n",
        "df.loc[df.duplicated()]"
      ],
      "metadata": {
        "colab": {
          "base_uri": "https://localhost:8080/",
          "height": 143
        },
        "id": "dNEmTC5QSsRX",
        "outputId": "5856edc6-9bca-4aff-b77d-1556d98a40cb"
      },
      "execution_count": 8,
      "outputs": [
        {
          "output_type": "execute_result",
          "data": {
            "text/plain": [
              "Empty DataFrame\n",
              "Columns: [symboling, CarName, fueltype, aspiration, doornumber, carbody, drivewheel, enginelocation, wheelbase, carlength, carwidth, carheight, curbweight, enginetype, cylindernumber, enginesize, fuelsystem, boreratio, stroke, compressionratio, horsepower, peakrpm, citympg, highwaympg, price]\n",
              "Index: []\n",
              "\n",
              "[0 rows x 25 columns]"
            ],
            "text/html": [
              "\n",
              "  <div id=\"df-b9c8339a-7534-4dfd-a766-87f789f6b04d\">\n",
              "    <div class=\"colab-df-container\">\n",
              "      <div>\n",
              "<style scoped>\n",
              "    .dataframe tbody tr th:only-of-type {\n",
              "        vertical-align: middle;\n",
              "    }\n",
              "\n",
              "    .dataframe tbody tr th {\n",
              "        vertical-align: top;\n",
              "    }\n",
              "\n",
              "    .dataframe thead th {\n",
              "        text-align: right;\n",
              "    }\n",
              "</style>\n",
              "<table border=\"1\" class=\"dataframe\">\n",
              "  <thead>\n",
              "    <tr style=\"text-align: right;\">\n",
              "      <th></th>\n",
              "      <th>symboling</th>\n",
              "      <th>CarName</th>\n",
              "      <th>fueltype</th>\n",
              "      <th>aspiration</th>\n",
              "      <th>doornumber</th>\n",
              "      <th>carbody</th>\n",
              "      <th>drivewheel</th>\n",
              "      <th>enginelocation</th>\n",
              "      <th>wheelbase</th>\n",
              "      <th>carlength</th>\n",
              "      <th>...</th>\n",
              "      <th>enginesize</th>\n",
              "      <th>fuelsystem</th>\n",
              "      <th>boreratio</th>\n",
              "      <th>stroke</th>\n",
              "      <th>compressionratio</th>\n",
              "      <th>horsepower</th>\n",
              "      <th>peakrpm</th>\n",
              "      <th>citympg</th>\n",
              "      <th>highwaympg</th>\n",
              "      <th>price</th>\n",
              "    </tr>\n",
              "  </thead>\n",
              "  <tbody>\n",
              "  </tbody>\n",
              "</table>\n",
              "<p>0 rows × 25 columns</p>\n",
              "</div>\n",
              "      <button class=\"colab-df-convert\" onclick=\"convertToInteractive('df-b9c8339a-7534-4dfd-a766-87f789f6b04d')\"\n",
              "              title=\"Convert this dataframe to an interactive table.\"\n",
              "              style=\"display:none;\">\n",
              "        \n",
              "  <svg xmlns=\"http://www.w3.org/2000/svg\" height=\"24px\"viewBox=\"0 0 24 24\"\n",
              "       width=\"24px\">\n",
              "    <path d=\"M0 0h24v24H0V0z\" fill=\"none\"/>\n",
              "    <path d=\"M18.56 5.44l.94 2.06.94-2.06 2.06-.94-2.06-.94-.94-2.06-.94 2.06-2.06.94zm-11 1L8.5 8.5l.94-2.06 2.06-.94-2.06-.94L8.5 2.5l-.94 2.06-2.06.94zm10 10l.94 2.06.94-2.06 2.06-.94-2.06-.94-.94-2.06-.94 2.06-2.06.94z\"/><path d=\"M17.41 7.96l-1.37-1.37c-.4-.4-.92-.59-1.43-.59-.52 0-1.04.2-1.43.59L10.3 9.45l-7.72 7.72c-.78.78-.78 2.05 0 2.83L4 21.41c.39.39.9.59 1.41.59.51 0 1.02-.2 1.41-.59l7.78-7.78 2.81-2.81c.8-.78.8-2.07 0-2.86zM5.41 20L4 18.59l7.72-7.72 1.47 1.35L5.41 20z\"/>\n",
              "  </svg>\n",
              "      </button>\n",
              "      \n",
              "  <style>\n",
              "    .colab-df-container {\n",
              "      display:flex;\n",
              "      flex-wrap:wrap;\n",
              "      gap: 12px;\n",
              "    }\n",
              "\n",
              "    .colab-df-convert {\n",
              "      background-color: #E8F0FE;\n",
              "      border: none;\n",
              "      border-radius: 50%;\n",
              "      cursor: pointer;\n",
              "      display: none;\n",
              "      fill: #1967D2;\n",
              "      height: 32px;\n",
              "      padding: 0 0 0 0;\n",
              "      width: 32px;\n",
              "    }\n",
              "\n",
              "    .colab-df-convert:hover {\n",
              "      background-color: #E2EBFA;\n",
              "      box-shadow: 0px 1px 2px rgba(60, 64, 67, 0.3), 0px 1px 3px 1px rgba(60, 64, 67, 0.15);\n",
              "      fill: #174EA6;\n",
              "    }\n",
              "\n",
              "    [theme=dark] .colab-df-convert {\n",
              "      background-color: #3B4455;\n",
              "      fill: #D2E3FC;\n",
              "    }\n",
              "\n",
              "    [theme=dark] .colab-df-convert:hover {\n",
              "      background-color: #434B5C;\n",
              "      box-shadow: 0px 1px 3px 1px rgba(0, 0, 0, 0.15);\n",
              "      filter: drop-shadow(0px 1px 2px rgba(0, 0, 0, 0.3));\n",
              "      fill: #FFFFFF;\n",
              "    }\n",
              "  </style>\n",
              "\n",
              "      <script>\n",
              "        const buttonEl =\n",
              "          document.querySelector('#df-b9c8339a-7534-4dfd-a766-87f789f6b04d button.colab-df-convert');\n",
              "        buttonEl.style.display =\n",
              "          google.colab.kernel.accessAllowed ? 'block' : 'none';\n",
              "\n",
              "        async function convertToInteractive(key) {\n",
              "          const element = document.querySelector('#df-b9c8339a-7534-4dfd-a766-87f789f6b04d');\n",
              "          const dataTable =\n",
              "            await google.colab.kernel.invokeFunction('convertToInteractive',\n",
              "                                                     [key], {});\n",
              "          if (!dataTable) return;\n",
              "\n",
              "          const docLinkHtml = 'Like what you see? Visit the ' +\n",
              "            '<a target=\"_blank\" href=https://colab.research.google.com/notebooks/data_table.ipynb>data table notebook</a>'\n",
              "            + ' to learn more about interactive tables.';\n",
              "          element.innerHTML = '';\n",
              "          dataTable['output_type'] = 'display_data';\n",
              "          await google.colab.output.renderOutput(dataTable, element);\n",
              "          const docLink = document.createElement('div');\n",
              "          docLink.innerHTML = docLinkHtml;\n",
              "          element.appendChild(docLink);\n",
              "        }\n",
              "      </script>\n",
              "    </div>\n",
              "  </div>\n",
              "  "
            ]
          },
          "metadata": {},
          "execution_count": 8
        }
      ]
    },
    {
      "cell_type": "markdown",
      "source": [
        "#EDA — Exploratory Data Analysis"
      ],
      "metadata": {
        "id": "j_nZpqWlTgcu"
      }
    },
    {
      "cell_type": "code",
      "source": [
        "# Checking object type features \n",
        "obj_cols = df.select_dtypes(include = 'object').columns\n",
        "for col in obj_cols:\n",
        "    print(col, ' : ', df[col].unique(), end = '\\n\\n')"
      ],
      "metadata": {
        "colab": {
          "base_uri": "https://localhost:8080/"
        },
        "id": "jbmPAOqITigV",
        "outputId": "6390a9b9-b61b-4142-e8db-1ee3424f59af"
      },
      "execution_count": 9,
      "outputs": [
        {
          "output_type": "stream",
          "name": "stdout",
          "text": [
            "CarName  :  ['alfa-romero' 'audi' 'bmw' 'chevrolet' 'dodge' 'honda' 'isuzu' 'jaguar'\n",
            " 'mazda' 'buick' 'mercury' 'mitsubishi' 'nissan' 'peugeot' 'plymouth'\n",
            " 'porsche' 'renault' 'saab' 'subaru' 'toyota' 'volkswagen' 'volvo']\n",
            "\n",
            "fueltype  :  ['gas' 'diesel']\n",
            "\n",
            "aspiration  :  ['std' 'turbo']\n",
            "\n",
            "doornumber  :  ['two' 'four']\n",
            "\n",
            "carbody  :  ['convertible' 'hatchback' 'sedan' 'wagon' 'hardtop']\n",
            "\n",
            "drivewheel  :  ['rwd' 'fwd' '4wd']\n",
            "\n",
            "enginelocation  :  ['front' 'rear']\n",
            "\n",
            "enginetype  :  ['dohc' 'ohcv' 'ohc' 'l' 'rotor' 'ohcf' 'dohcv']\n",
            "\n",
            "cylindernumber  :  ['four' 'six' 'five' 'three' 'twelve' 'two' 'eight']\n",
            "\n",
            "fuelsystem  :  ['mpfi' '2bbl' 'mfi' '1bbl' 'spfi' '4bbl' 'idi' 'spdi']\n",
            "\n"
          ]
        }
      ]
    },
    {
      "cell_type": "code",
      "source": [
        "# Inspecting the value counts with graphs\n",
        "import matplotlib.pyplot as plt\n",
        "cols = df.select_dtypes(include = 'object').columns.drop('cylindernumber')\n",
        "plt.figure(figsize=(16, 16))\n",
        "n = len(cols)\n",
        "for i in range(1, n+1):\n",
        "    plt.subplot(3, 3, i)\n",
        "    plt1 = df[cols[i-1]].value_counts()\n",
        "    plt1.plot(kind = 'bar')\n",
        "    plt.title(cols[i-1])"
      ],
      "metadata": {
        "colab": {
          "base_uri": "https://localhost:8080/",
          "height": 954
        },
        "id": "lIWqNqzjUCPo",
        "outputId": "a5d38e3a-3e28-4d92-e51a-ad9ab7996cd6"
      },
      "execution_count": 10,
      "outputs": [
        {
          "output_type": "display_data",
          "data": {
            "text/plain": [
              "<Figure size 1152x1152 with 9 Axes>"
            ],
            "image/png": "[encoded data removed]"
          },
          "metadata": {
            "needs_background": "light"
          }
        }
      ]
    },
    {
      "cell_type": "code",
      "source": [
        "# Droping enginelocation feature since it does not impact on car prices so much\n",
        "df.drop('enginelocation', axis = 1, inplace = True)"
      ],
      "metadata": {
        "id": "_JImHkAJUdH5"
      },
      "execution_count": 11,
      "outputs": []
    },
    {
      "cell_type": "code",
      "source": [
        "print(df['fuelsystem'].value_counts())\n",
        "print(\"**************************\")\n",
        "print(df['enginetype'].value_counts())"
      ],
      "metadata": {
        "colab": {
          "base_uri": "https://localhost:8080/"
        },
        "id": "LFcJwPrNUxjA",
        "outputId": "f02e538b-f0ca-4eab-aa8f-0134af29493d"
      },
      "execution_count": 12,
      "outputs": [
        {
          "output_type": "stream",
          "name": "stdout",
          "text": [
            "mpfi    94\n",
            "2bbl    66\n",
            "idi     20\n",
            "1bbl    11\n",
            "spdi     9\n",
            "4bbl     3\n",
            "mfi      1\n",
            "spfi     1\n",
            "Name: fuelsystem, dtype: int64\n",
            "**************************\n",
            "ohc      148\n",
            "ohcf      15\n",
            "ohcv      13\n",
            "dohc      12\n",
            "l         12\n",
            "rotor      4\n",
            "dohcv      1\n",
            "Name: enginetype, dtype: int64\n"
          ]
        }
      ]
    },
    {
      "cell_type": "code",
      "source": [
        "import seaborn as sns\n",
        "sns.boxplot(data = df, y = 'price', x = 'fuelsystem')"
      ],
      "metadata": {
        "colab": {
          "base_uri": "https://localhost:8080/",
          "height": 296
        },
        "id": "jxIbY8xPU9kM",
        "outputId": "9e3a7b03-4b4b-41a1-fa68-9e7b1df00d42"
      },
      "execution_count": 13,
      "outputs": [
        {
          "output_type": "execute_result",
          "data": {
            "text/plain": [
              "<matplotlib.axes._subplots.AxesSubplot at 0x7fc9474794d0>"
            ]
          },
          "metadata": {},
          "execution_count": 13
        },
        {
          "output_type": "display_data",
          "data": {
            "text/plain": [
              "<Figure size 432x288 with 1 Axes>"
            ],
            "image/png": "[encoded data removed]"
          },
          "metadata": {
            "needs_background": "light"
          }
        }
      ]
    },
    {
      "cell_type": "code",
      "source": [
        "sns.boxplot(data = df, y = 'price', x = 'enginetype')"
      ],
      "metadata": {
        "colab": {
          "base_uri": "https://localhost:8080/",
          "height": 296
        },
        "id": "FXUVwqAKVF_z",
        "outputId": "1abc98c0-d10c-4fe1-b3cd-86d0f5d5ef55"
      },
      "execution_count": 14,
      "outputs": [
        {
          "output_type": "execute_result",
          "data": {
            "text/plain": [
              "<matplotlib.axes._subplots.AxesSubplot at 0x7fc9473b1050>"
            ]
          },
          "metadata": {},
          "execution_count": 14
        },
        {
          "output_type": "display_data",
          "data": {
            "text/plain": [
              "<Figure size 432x288 with 1 Axes>"
            ],
            "image/png": "[encoded data removed]"
          },
          "metadata": {
            "needs_background": "light"
          }
        }
      ]
    },
    {
      "cell_type": "code",
      "source": [
        "df.loc[df['fuelsystem'] == 'mfi', 'fuelsystem'] = 'idi'\n",
        "df.loc[df['fuelsystem'] == 'spfi', 'fuelsystem'] = 'idi'\n",
        "df.loc[df['fuelsystem'] == '4bbl', 'fuelsystem'] = 'idi'\n",
        "df.loc[df['enginetype'] == 'dohcv', 'enginetype'] = 'ohcv'\n",
        "df.loc[df['enginetype'] == 'rotor', 'enginetype'] = 'l'"
      ],
      "metadata": {
        "id": "ODY8OTztVcDh"
      },
      "execution_count": 15,
      "outputs": []
    },
    {
      "cell_type": "code",
      "source": [
        "print(df['CarName'].value_counts())\n",
        "plt.figure(figsize=(16, 10))\n",
        "sns.boxplot(data = df, y = 'price', x = 'CarName')"
      ],
      "metadata": {
        "colab": {
          "base_uri": "https://localhost:8080/",
          "height": 1000
        },
        "id": "CLqtS7J9VdsF",
        "outputId": "5efb1d8b-b59b-4df6-af93-e3632135e87f"
      },
      "execution_count": 16,
      "outputs": [
        {
          "output_type": "stream",
          "name": "stdout",
          "text": [
            "toyota         32\n",
            "nissan         18\n",
            "mazda          17\n",
            "mitsubishi     13\n",
            "honda          13\n",
            "volkswagen     12\n",
            "subaru         12\n",
            "peugeot        11\n",
            "volvo          11\n",
            "dodge           9\n",
            "buick           8\n",
            "bmw             8\n",
            "audi            7\n",
            "plymouth        7\n",
            "saab            6\n",
            "porsche         5\n",
            "isuzu           4\n",
            "jaguar          3\n",
            "chevrolet       3\n",
            "alfa-romero     3\n",
            "renault         2\n",
            "mercury         1\n",
            "Name: CarName, dtype: int64\n"
          ]
        },
        {
          "output_type": "execute_result",
          "data": {
            "text/plain": [
              "<matplotlib.axes._subplots.AxesSubplot at 0x7fc94723b190>"
            ]
          },
          "metadata": {},
          "execution_count": 16
        },
        {
          "output_type": "display_data",
          "data": {
            "text/plain": [
              "<Figure size 1152x720 with 1 Axes>"
            ],
            "image/png": "[encoded data removed]"
          },
          "metadata": {
            "needs_background": "light"
          }
        }
      ]
    },
    {
      "cell_type": "code",
      "source": [
        "df.loc[df['CarName'] == 'mercury', 'CarName'] = 'peugeot'\n",
        "df.loc[df['CarName'] == 'renault', 'CarName'] = 'volkswagen'\n",
        "df.loc[df['CarName'] == 'alfa-romero', 'CarName'] = 'saab'\n",
        "df.loc[df['CarName'] == 'jaguar', 'CarName'] = 'buick'\n",
        "df.loc[df['CarName'] == 'chevrolet', 'CarName'] = 'plymouth'"
      ],
      "metadata": {
        "id": "NvJU1-jlZ62c"
      },
      "execution_count": 17,
      "outputs": []
    },
    {
      "cell_type": "markdown",
      "source": [
        "#Data Preprocessing"
      ],
      "metadata": {
        "id": "xJIseqBqZ9E3"
      }
    },
    {
      "cell_type": "code",
      "source": [
        "from sklearn.model_selection import train_test_split \n",
        "df_train, df_test = train_test_split(df, test_size=0.2, random_state=0)"
      ],
      "metadata": {
        "id": "X_UWyDF-Z_QU"
      },
      "execution_count": 18,
      "outputs": []
    },
    {
      "cell_type": "code",
      "source": [
        "from sklearn.base import BaseEstimator,TransformerMixin\n",
        "from sklearn.preprocessing import StandardScaler\n",
        "from sklearn.pipeline import Pipeline"
      ],
      "metadata": {
        "id": "TWq9nyegaTvg"
      },
      "execution_count": 19,
      "outputs": []
    },
    {
      "cell_type": "markdown",
      "source": [
        "**Label Encoding**"
      ],
      "metadata": {
        "id": "lZvtuzGzauo0"
      }
    },
    {
      "cell_type": "code",
      "source": [
        "class CylinderNumberEncoder(BaseEstimator,TransformerMixin):\n",
        "        \n",
        "    def fit(self,X,Y=None):\n",
        "        return self\n",
        "    \n",
        "    def transform(self,X):\n",
        "        \n",
        "        X.loc[df['cylindernumber'] == 'two', 'cylindernumber'] = 2\n",
        "        X.loc[df['cylindernumber'] == 'three', 'cylindernumber'] = 3\n",
        "        X.loc[df['cylindernumber'] == 'four', 'cylindernumber'] = 4\n",
        "        X.loc[df['cylindernumber'] == 'five', 'cylindernumber'] = 5\n",
        "        X.loc[df['cylindernumber'] == 'six', 'cylindernumber'] = 6\n",
        "        X.loc[df['cylindernumber'] == 'eight', 'cylindernumber'] = 8\n",
        "        X.loc[df['cylindernumber'] == 'twelve', 'cylindernumber']=12\n",
        "        \n",
        "        X['cylindernumber'] = X['cylindernumber'].astype(str).astype(int)\n",
        "        \n",
        "        return X"
      ],
      "metadata": {
        "id": "HEBmy32HaWo8"
      },
      "execution_count": 20,
      "outputs": []
    },
    {
      "cell_type": "markdown",
      "source": [
        "**One-hot encoding**"
      ],
      "metadata": {
        "id": "R8Dba3Dea083"
      }
    },
    {
      "cell_type": "code",
      "source": [
        "class DummyVariables(BaseEstimator,TransformerMixin):\n",
        "     \n",
        "    def fit(self,X,Y=None):\n",
        "        return self\n",
        "    \n",
        "    def transform(self,X):\n",
        "        \n",
        "        dummy_cols = X.select_dtypes(include = 'object').columns\n",
        "        X = pd.get_dummies(X, columns = dummy_cols, drop_first=True)\n",
        "        \n",
        "        return X"
      ],
      "metadata": {
        "id": "CQ4GIivZaZuy"
      },
      "execution_count": 21,
      "outputs": []
    },
    {
      "cell_type": "markdown",
      "source": [
        "**Outliers**"
      ],
      "metadata": {
        "id": "9ancL-Tqa6hG"
      }
    },
    {
      "cell_type": "code",
      "source": [
        "def number_of_outliers(df):\n",
        "    \n",
        "    df = df.select_dtypes(exclude = 'object')\n",
        "    \n",
        "    Q1 = df.quantile(0.25)\n",
        "    Q3 = df.quantile(0.75)\n",
        "    IQR = Q3 - Q1\n",
        "    \n",
        "    return ((df < (Q1 - 1.5 * IQR)) | (df > (Q3 + 1.5 * IQR))).sum()\n",
        "print(number_of_outliers(df_train))\n",
        "print(number_of_outliers(df_test))\n",
        "\n",
        "\n"
      ],
      "metadata": {
        "colab": {
          "base_uri": "https://localhost:8080/"
        },
        "id": "e8AjoOk3a5x7",
        "outputId": "5b28c526-5aa7-4eff-b2b3-7f950c809e60"
      },
      "execution_count": 22,
      "outputs": [
        {
          "output_type": "stream",
          "name": "stdout",
          "text": [
            "symboling            0\n",
            "wheelbase            3\n",
            "carlength            0\n",
            "carwidth             5\n",
            "carheight            0\n",
            "curbweight           0\n",
            "enginesize           8\n",
            "boreratio            0\n",
            "stroke              19\n",
            "compressionratio    27\n",
            "horsepower           5\n",
            "peakrpm              2\n",
            "citympg              1\n",
            "highwaympg           2\n",
            "price               12\n",
            "dtype: int64\n",
            "symboling           0\n",
            "wheelbase           2\n",
            "carlength           3\n",
            "carwidth            4\n",
            "carheight           0\n",
            "curbweight          0\n",
            "enginesize          1\n",
            "boreratio           2\n",
            "stroke              5\n",
            "compressionratio    2\n",
            "horsepower          1\n",
            "peakrpm             0\n",
            "citympg             0\n",
            "highwaympg          0\n",
            "price               3\n",
            "dtype: int64\n"
          ]
        }
      ]
    },
    {
      "cell_type": "code",
      "source": [
        "import numpy as np\n",
        "def outlier_treatment(datacolumn):\n",
        "        \n",
        "    sorted(datacolumn)\n",
        "    Q1,Q3 = np.percentile(datacolumn , [25,75])\n",
        "    IQR = Q3 - Q1\n",
        "    lower_range = Q1 - (1.5 * IQR)\n",
        "    upper_range = Q3 + (1.5 * IQR)\n",
        "    \n",
        "    return lower_range,upper_range\n",
        "class OutlierTreatment(BaseEstimator,TransformerMixin):\n",
        "        \n",
        "    def fit(self,X,Y=None):\n",
        "        return self\n",
        "    \n",
        "    def transform(self,X):\n",
        "        \n",
        "        for col in X.columns:\n",
        "            lowerbound,upperbound = outlier_treatment(X[col])\n",
        "            X[col]=np.clip(X[col],a_min=lowerbound,a_max=upperbound)\n",
        "        return X"
      ],
      "metadata": {
        "id": "p66_8AD5bKAr"
      },
      "execution_count": 23,
      "outputs": []
    },
    {
      "cell_type": "markdown",
      "source": [
        "**Scaling**"
      ],
      "metadata": {
        "id": "0pP6eQ67bSvB"
      }
    },
    {
      "cell_type": "code",
      "source": [
        "from sklearn.preprocessing import MinMaxScaler\n",
        "class CustomizedScaler(BaseEstimator,TransformerMixin):\n",
        "      \n",
        "    def fit(self,X,Y=None):\n",
        "        return self\n",
        "    \n",
        "    def transform(self,X):\n",
        "        \n",
        "        names = X.columns\n",
        "        scaler = MinMaxScaler()\n",
        "        scaler.fit(X)\n",
        "        X =scaler.transform(X)\n",
        "        X = pd.DataFrame(X, columns = names)\n",
        "        \n",
        "        return X"
      ],
      "metadata": {
        "id": "DycxwmTIbODU"
      },
      "execution_count": 24,
      "outputs": []
    },
    {
      "cell_type": "markdown",
      "source": [
        "**Pipeline**"
      ],
      "metadata": {
        "id": "AO5tCsZQbavv"
      }
    },
    {
      "cell_type": "code",
      "source": [
        "#Sklearn pipeline function to activate all steps\n",
        "\n",
        "pipeline = Pipeline( steps = [\n",
        "    \n",
        "    ('cylinder_number_encoder', CylinderNumberEncoder()),\n",
        "    ('encoder', DummyVariables()),\n",
        "    ('outlier', OutlierTreatment()),\n",
        "    ('scaler', CustomizedScaler())\n",
        "])\n",
        "df_train = pipeline.fit_transform(df_train)\n",
        "df_test = pipeline.fit_transform(df_test)"
      ],
      "metadata": {
        "id": "7djoI2MnbcXS"
      },
      "execution_count": 25,
      "outputs": []
    },
    {
      "cell_type": "code",
      "source": [
        "X_train = df_train.drop('price', axis = 1)\n",
        "y_train = df_train.price\n",
        "X_test = df_test.drop('price', axis = 1)\n",
        "y_test = df_test.price\n",
        "X_train = X_train[X_test.columns]"
      ],
      "metadata": {
        "id": "Y0LpT1GDbv2v"
      },
      "execution_count": 26,
      "outputs": []
    },
    {
      "cell_type": "markdown",
      "source": [
        "**Feature Selection**"
      ],
      "metadata": {
        "id": "RhYhAnPAb40v"
      }
    },
    {
      "cell_type": "code",
      "source": [
        "import statsmodels.api as sm\n",
        "cols = list(X_train.columns)\n",
        "pmax = 1\n",
        "while (len(cols)>0):\n",
        "    p = []\n",
        "    X_1 = X_train[cols]\n",
        "    X_1 = sm.add_constant(X_1)\n",
        "    model = sm.OLS(y_train,X_1).fit()\n",
        "    p = pd.Series(model.pvalues.values[1:],index = cols)      \n",
        "    pmax = max(p)\n",
        "    feature_with_p_max = p.idxmax()\n",
        "    if(pmax>0.05):\n",
        "        cols.remove(feature_with_p_max)\n",
        "    else:\n",
        "        break\n",
        "selected_features_BE = cols\n",
        "print(selected_features_BE)"
      ],
      "metadata": {
        "colab": {
          "base_uri": "https://localhost:8080/"
        },
        "id": "hLHmxZ6Jb2md",
        "outputId": "44195bd0-41c0-4533-8ae2-3943bc83c17c"
      },
      "execution_count": 27,
      "outputs": [
        {
          "output_type": "stream",
          "name": "stderr",
          "text": [
            "/usr/local/lib/python3.7/dist-packages/statsmodels/tsa/tsatools.py:142: FutureWarning: In a future version of pandas all arguments of concat except for the argument 'objs' will be keyword-only\n",
            "  x = pd.concat(x[::order], 1)\n",
            "/usr/local/lib/python3.7/dist-packages/statsmodels/tsa/tsatools.py:142: FutureWarning: In a future version of pandas all arguments of concat except for the argument 'objs' will be keyword-only\n",
            "  x = pd.concat(x[::order], 1)\n",
            "/usr/local/lib/python3.7/dist-packages/statsmodels/tsa/tsatools.py:142: FutureWarning: In a future version of pandas all arguments of concat except for the argument 'objs' will be keyword-only\n",
            "  x = pd.concat(x[::order], 1)\n",
            "/usr/local/lib/python3.7/dist-packages/statsmodels/tsa/tsatools.py:142: FutureWarning: In a future version of pandas all arguments of concat except for the argument 'objs' will be keyword-only\n",
            "  x = pd.concat(x[::order], 1)\n",
            "/usr/local/lib/python3.7/dist-packages/statsmodels/tsa/tsatools.py:142: FutureWarning: In a future version of pandas all arguments of concat except for the argument 'objs' will be keyword-only\n",
            "  x = pd.concat(x[::order], 1)\n",
            "/usr/local/lib/python3.7/dist-packages/statsmodels/tsa/tsatools.py:142: FutureWarning: In a future version of pandas all arguments of concat except for the argument 'objs' will be keyword-only\n",
            "  x = pd.concat(x[::order], 1)\n",
            "/usr/local/lib/python3.7/dist-packages/statsmodels/tsa/tsatools.py:142: FutureWarning: In a future version of pandas all arguments of concat except for the argument 'objs' will be keyword-only\n",
            "  x = pd.concat(x[::order], 1)\n",
            "/usr/local/lib/python3.7/dist-packages/statsmodels/tsa/tsatools.py:142: FutureWarning: In a future version of pandas all arguments of concat except for the argument 'objs' will be keyword-only\n",
            "  x = pd.concat(x[::order], 1)\n",
            "/usr/local/lib/python3.7/dist-packages/statsmodels/tsa/tsatools.py:142: FutureWarning: In a future version of pandas all arguments of concat except for the argument 'objs' will be keyword-only\n",
            "  x = pd.concat(x[::order], 1)\n",
            "/usr/local/lib/python3.7/dist-packages/statsmodels/tsa/tsatools.py:142: FutureWarning: In a future version of pandas all arguments of concat except for the argument 'objs' will be keyword-only\n",
            "  x = pd.concat(x[::order], 1)\n",
            "/usr/local/lib/python3.7/dist-packages/statsmodels/tsa/tsatools.py:142: FutureWarning: In a future version of pandas all arguments of concat except for the argument 'objs' will be keyword-only\n",
            "  x = pd.concat(x[::order], 1)\n",
            "/usr/local/lib/python3.7/dist-packages/statsmodels/tsa/tsatools.py:142: FutureWarning: In a future version of pandas all arguments of concat except for the argument 'objs' will be keyword-only\n",
            "  x = pd.concat(x[::order], 1)\n",
            "/usr/local/lib/python3.7/dist-packages/statsmodels/tsa/tsatools.py:142: FutureWarning: In a future version of pandas all arguments of concat except for the argument 'objs' will be keyword-only\n",
            "  x = pd.concat(x[::order], 1)\n",
            "/usr/local/lib/python3.7/dist-packages/statsmodels/tsa/tsatools.py:142: FutureWarning: In a future version of pandas all arguments of concat except for the argument 'objs' will be keyword-only\n",
            "  x = pd.concat(x[::order], 1)\n",
            "/usr/local/lib/python3.7/dist-packages/statsmodels/tsa/tsatools.py:142: FutureWarning: In a future version of pandas all arguments of concat except for the argument 'objs' will be keyword-only\n",
            "  x = pd.concat(x[::order], 1)\n",
            "/usr/local/lib/python3.7/dist-packages/statsmodels/tsa/tsatools.py:142: FutureWarning: In a future version of pandas all arguments of concat except for the argument 'objs' will be keyword-only\n",
            "  x = pd.concat(x[::order], 1)\n",
            "/usr/local/lib/python3.7/dist-packages/statsmodels/tsa/tsatools.py:142: FutureWarning: In a future version of pandas all arguments of concat except for the argument 'objs' will be keyword-only\n",
            "  x = pd.concat(x[::order], 1)\n",
            "/usr/local/lib/python3.7/dist-packages/statsmodels/tsa/tsatools.py:142: FutureWarning: In a future version of pandas all arguments of concat except for the argument 'objs' will be keyword-only\n",
            "  x = pd.concat(x[::order], 1)\n",
            "/usr/local/lib/python3.7/dist-packages/statsmodels/tsa/tsatools.py:142: FutureWarning: In a future version of pandas all arguments of concat except for the argument 'objs' will be keyword-only\n",
            "  x = pd.concat(x[::order], 1)\n",
            "/usr/local/lib/python3.7/dist-packages/statsmodels/tsa/tsatools.py:142: FutureWarning: In a future version of pandas all arguments of concat except for the argument 'objs' will be keyword-only\n",
            "  x = pd.concat(x[::order], 1)\n",
            "/usr/local/lib/python3.7/dist-packages/statsmodels/tsa/tsatools.py:142: FutureWarning: In a future version of pandas all arguments of concat except for the argument 'objs' will be keyword-only\n",
            "  x = pd.concat(x[::order], 1)\n",
            "/usr/local/lib/python3.7/dist-packages/statsmodels/tsa/tsatools.py:142: FutureWarning: In a future version of pandas all arguments of concat except for the argument 'objs' will be keyword-only\n",
            "  x = pd.concat(x[::order], 1)\n",
            "/usr/local/lib/python3.7/dist-packages/statsmodels/tsa/tsatools.py:142: FutureWarning: In a future version of pandas all arguments of concat except for the argument 'objs' will be keyword-only\n",
            "  x = pd.concat(x[::order], 1)\n",
            "/usr/local/lib/python3.7/dist-packages/statsmodels/tsa/tsatools.py:142: FutureWarning: In a future version of pandas all arguments of concat except for the argument 'objs' will be keyword-only\n",
            "  x = pd.concat(x[::order], 1)\n",
            "/usr/local/lib/python3.7/dist-packages/statsmodels/tsa/tsatools.py:142: FutureWarning: In a future version of pandas all arguments of concat except for the argument 'objs' will be keyword-only\n",
            "  x = pd.concat(x[::order], 1)\n",
            "/usr/local/lib/python3.7/dist-packages/statsmodels/tsa/tsatools.py:142: FutureWarning: In a future version of pandas all arguments of concat except for the argument 'objs' will be keyword-only\n",
            "  x = pd.concat(x[::order], 1)\n",
            "/usr/local/lib/python3.7/dist-packages/statsmodels/tsa/tsatools.py:142: FutureWarning: In a future version of pandas all arguments of concat except for the argument 'objs' will be keyword-only\n",
            "  x = pd.concat(x[::order], 1)\n",
            "/usr/local/lib/python3.7/dist-packages/statsmodels/tsa/tsatools.py:142: FutureWarning: In a future version of pandas all arguments of concat except for the argument 'objs' will be keyword-only\n",
            "  x = pd.concat(x[::order], 1)\n",
            "/usr/local/lib/python3.7/dist-packages/statsmodels/tsa/tsatools.py:142: FutureWarning: In a future version of pandas all arguments of concat except for the argument 'objs' will be keyword-only\n",
            "  x = pd.concat(x[::order], 1)\n"
          ]
        },
        {
          "output_type": "stream",
          "name": "stdout",
          "text": [
            "['symboling', 'carlength', 'carwidth', 'curbweight', 'enginesize', 'boreratio', 'stroke', 'compressionratio', 'horsepower', 'carbody_hatchback', 'drivewheel_rwd', 'enginetype_l', 'enginetype_ohc', 'enginetype_ohcf', 'enginetype_ohcv', 'fuelsystem_idi', 'fuelsystem_spdi']\n"
          ]
        },
        {
          "output_type": "stream",
          "name": "stderr",
          "text": [
            "/usr/local/lib/python3.7/dist-packages/statsmodels/tsa/tsatools.py:142: FutureWarning: In a future version of pandas all arguments of concat except for the argument 'objs' will be keyword-only\n",
            "  x = pd.concat(x[::order], 1)\n",
            "/usr/local/lib/python3.7/dist-packages/statsmodels/tsa/tsatools.py:142: FutureWarning: In a future version of pandas all arguments of concat except for the argument 'objs' will be keyword-only\n",
            "  x = pd.concat(x[::order], 1)\n"
          ]
        }
      ]
    },
    {
      "cell_type": "code",
      "source": [
        "# Updating the training set with selected features\n",
        "X_train = X_train[selected_features_BE]"
      ],
      "metadata": {
        "id": "k-IFTNOjcK7w"
      },
      "execution_count": 28,
      "outputs": []
    },
    {
      "cell_type": "markdown",
      "source": [
        "#Building Model"
      ],
      "metadata": {
        "id": "-sVT8EZtcSVM"
      }
    },
    {
      "cell_type": "code",
      "source": [
        "X_train = sm.add_constant(X_train) #Adding the constant\n",
        "lm = sm.OLS(y_train, X_train).fit() # fitting the model\n",
        "print(lm.summary())"
      ],
      "metadata": {
        "colab": {
          "base_uri": "https://localhost:8080/"
        },
        "id": "yIIsTpoYcRK8",
        "outputId": "1fca628d-cb39-4b2d-9ee5-4f79d76fa93f"
      },
      "execution_count": 29,
      "outputs": [
        {
          "output_type": "stream",
          "name": "stdout",
          "text": [
            "                            OLS Regression Results                            \n",
            "==============================================================================\n",
            "Dep. Variable:                  price   R-squared:                       0.888\n",
            "Model:                            OLS   Adj. R-squared:                  0.879\n",
            "Method:                 Least Squares   F-statistic:                     99.73\n",
            "Date:                Wed, 09 Nov 2022   Prob (F-statistic):           2.32e-65\n",
            "Time:                        16:55:06   Log-Likelihood:                 158.24\n",
            "No. Observations:                 164   AIC:                            -290.5\n",
            "Df Residuals:                     151   BIC:                            -250.2\n",
            "Df Model:                          12                                         \n",
            "Covariance Type:            nonrobust                                         \n",
            "=====================================================================================\n",
            "                        coef    std err          t      P>|t|      [0.025      0.975]\n",
            "-------------------------------------------------------------------------------------\n",
            "const                -0.1526      0.057     -2.695      0.008      -0.265      -0.041\n",
            "symboling             0.0802      0.037      2.185      0.030       0.008       0.153\n",
            "carlength            -0.2586      0.107     -2.415      0.017      -0.470      -0.047\n",
            "carwidth              0.3566      0.080      4.441      0.000       0.198       0.515\n",
            "curbweight            0.4198      0.123      3.406      0.001       0.176       0.663\n",
            "enginesize            0.2602      0.079      3.309      0.001       0.105       0.416\n",
            "boreratio            -0.1190      0.052     -2.293      0.023      -0.221      -0.016\n",
            "stroke               -0.1808      0.041     -4.410      0.000      -0.262      -0.100\n",
            "compressionratio      0.1229      0.041      3.027      0.003       0.043       0.203\n",
            "horsepower            0.3987      0.070      5.675      0.000       0.260       0.538\n",
            "carbody_hatchback    -0.0682      0.020     -3.332      0.001      -0.109      -0.028\n",
            "drivewheel_rwd        0.0806      0.023      3.500      0.001       0.035       0.126\n",
            "enginetype_l               0          0        nan        nan           0           0\n",
            "enginetype_ohc        0.1000      0.023      4.394      0.000       0.055       0.145\n",
            "enginetype_ohcf            0          0        nan        nan           0           0\n",
            "enginetype_ohcv            0          0        nan        nan           0           0\n",
            "fuelsystem_idi             0          0        nan        nan           0           0\n",
            "fuelsystem_spdi            0          0        nan        nan           0           0\n",
            "==============================================================================\n",
            "Omnibus:                        4.431   Durbin-Watson:                   2.145\n",
            "Prob(Omnibus):                  0.109   Jarque-Bera (JB):                4.301\n",
            "Skew:                          -0.259   Prob(JB):                        0.116\n",
            "Kurtosis:                       3.601   Cond. No.                          inf\n",
            "==============================================================================\n",
            "\n",
            "Notes:\n",
            "[1] Standard Errors assume that the covariance matrix of the errors is correctly specified.\n",
            "[2] The smallest eigenvalue is      0. This might indicate that there are\n",
            "strong multicollinearity problems or that the design matrix is singular.\n"
          ]
        },
        {
          "output_type": "stream",
          "name": "stderr",
          "text": [
            "/usr/local/lib/python3.7/dist-packages/statsmodels/tsa/tsatools.py:142: FutureWarning: In a future version of pandas all arguments of concat except for the argument 'objs' will be keyword-only\n",
            "  x = pd.concat(x[::order], 1)\n",
            "/usr/local/lib/python3.7/dist-packages/statsmodels/regression/linear_model.py:1860: RuntimeWarning: divide by zero encountered in double_scalars\n",
            "  return np.sqrt(eigvals[0]/eigvals[-1])\n"
          ]
        }
      ]
    },
    {
      "cell_type": "code",
      "source": [
        "X_test = X_test[selected_features_BE]\n",
        "X_test = sm.add_constant(X_test)\n",
        "y_pred = lm.predict(X_test)\n",
        "from sklearn.metrics import r2_score \n",
        "r2_score(y_test, y_pred)"
      ],
      "metadata": {
        "colab": {
          "base_uri": "https://localhost:8080/"
        },
        "id": "WTLEXTJJcdsQ",
        "outputId": "929cc8c9-128e-4182-a509-d9e0329bedd1"
      },
      "execution_count": 30,
      "outputs": [
        {
          "output_type": "stream",
          "name": "stderr",
          "text": [
            "/usr/local/lib/python3.7/dist-packages/statsmodels/tsa/tsatools.py:142: FutureWarning: In a future version of pandas all arguments of concat except for the argument 'objs' will be keyword-only\n",
            "  x = pd.concat(x[::order], 1)\n"
          ]
        },
        {
          "output_type": "execute_result",
          "data": {
            "text/plain": [
              "0.7828025643949676"
            ]
          },
          "metadata": {},
          "execution_count": 30
        }
      ]
    },
    {
      "cell_type": "code",
      "source": [
        "from tensorflow.keras.models import Sequential\n",
        "from tensorflow.keras.layers import Dense, Activation\n",
        "from tensorflow.keras.optimizers import Adam\n",
        "\n",
        "# having 18 neuron is based on the number of available features\n",
        "model = Sequential()\n",
        "model.add(Dense(18,activation = 'relu'))\n",
        "model.add(Dense(18,activation = 'relu'))\n",
        "model.add(Dense(18,activation = 'relu'))\n",
        "model.add(Dense(1))\n",
        "model.compile(optimizer='Adam',loss='mean_squared_error')"
      ],
      "metadata": {
        "id": "eiJMN6vpUl1C"
      },
      "execution_count": 34,
      "outputs": []
    },
    {
      "cell_type": "code",
      "source": [
        "model.fit(x=X_train,y=y_train,\n",
        "          validation_data=(X_test,y_test),\n",
        "          batch_size=128,epochs=400)\n",
        "model.summary()"
      ],
      "metadata": {
        "colab": {
          "base_uri": "https://localhost:8080/"
        },
        "id": "42H2BjWRWQQI",
        "outputId": "af1c2cd8-575d-4dad-f617-d0ec38e7f624"
      },
      "execution_count": 35,
      "outputs": [
        {
          "output_type": "stream",
          "name": "stdout",
          "text": [
            "Epoch 1/400\n",
            "2/2 [==============================] - 1s 274ms/step - loss: 0.1094 - val_loss: 0.1050\n",
            "Epoch 2/400\n",
            "2/2 [==============================] - 0s 62ms/step - loss: 0.0957 - val_loss: 0.0931\n",
            "Epoch 3/400\n",
            "2/2 [==============================] - 0s 72ms/step - loss: 0.0833 - val_loss: 0.0818\n",
            "Epoch 4/400\n",
            "2/2 [==============================] - 0s 53ms/step - loss: 0.0717 - val_loss: 0.0711\n",
            "Epoch 5/400\n",
            "2/2 [==============================] - 0s 60ms/step - loss: 0.0613 - val_loss: 0.0618\n",
            "Epoch 6/400\n",
            "2/2 [==============================] - 0s 55ms/step - loss: 0.0517 - val_loss: 0.0545\n",
            "Epoch 7/400\n",
            "2/2 [==============================] - 0s 38ms/step - loss: 0.0445 - val_loss: 0.0499\n",
            "Epoch 8/400\n",
            "2/2 [==============================] - 0s 38ms/step - loss: 0.0394 - val_loss: 0.0472\n",
            "Epoch 9/400\n",
            "2/2 [==============================] - 0s 59ms/step - loss: 0.0357 - val_loss: 0.0463\n",
            "Epoch 10/400\n",
            "2/2 [==============================] - 0s 52ms/step - loss: 0.0345 - val_loss: 0.0462\n",
            "Epoch 11/400\n",
            "2/2 [==============================] - 0s 67ms/step - loss: 0.0337 - val_loss: 0.0459\n",
            "Epoch 12/400\n",
            "2/2 [==============================] - 0s 84ms/step - loss: 0.0329 - val_loss: 0.0449\n",
            "Epoch 13/400\n",
            "2/2 [==============================] - 0s 101ms/step - loss: 0.0320 - val_loss: 0.0430\n",
            "Epoch 14/400\n",
            "2/2 [==============================] - 0s 126ms/step - loss: 0.0305 - val_loss: 0.0403\n",
            "Epoch 15/400\n",
            "2/2 [==============================] - 0s 57ms/step - loss: 0.0287 - val_loss: 0.0376\n",
            "Epoch 16/400\n",
            "2/2 [==============================] - 0s 114ms/step - loss: 0.0270 - val_loss: 0.0354\n",
            "Epoch 17/400\n",
            "2/2 [==============================] - 0s 120ms/step - loss: 0.0256 - val_loss: 0.0337\n",
            "Epoch 18/400\n",
            "2/2 [==============================] - 0s 124ms/step - loss: 0.0247 - val_loss: 0.0324\n",
            "Epoch 19/400\n",
            "2/2 [==============================] - 0s 43ms/step - loss: 0.0239 - val_loss: 0.0314\n",
            "Epoch 20/400\n",
            "2/2 [==============================] - 0s 77ms/step - loss: 0.0233 - val_loss: 0.0305\n",
            "Epoch 21/400\n",
            "2/2 [==============================] - 0s 65ms/step - loss: 0.0228 - val_loss: 0.0298\n",
            "Epoch 22/400\n",
            "2/2 [==============================] - 0s 28ms/step - loss: 0.0223 - val_loss: 0.0292\n",
            "Epoch 23/400\n",
            "2/2 [==============================] - 0s 27ms/step - loss: 0.0218 - val_loss: 0.0286\n",
            "Epoch 24/400\n",
            "2/2 [==============================] - 0s 27ms/step - loss: 0.0212 - val_loss: 0.0282\n",
            "Epoch 25/400\n",
            "2/2 [==============================] - 0s 26ms/step - loss: 0.0206 - val_loss: 0.0278\n",
            "Epoch 26/400\n",
            "2/2 [==============================] - 0s 27ms/step - loss: 0.0200 - val_loss: 0.0277\n",
            "Epoch 27/400\n",
            "2/2 [==============================] - 0s 25ms/step - loss: 0.0195 - val_loss: 0.0275\n",
            "Epoch 28/400\n",
            "2/2 [==============================] - 0s 29ms/step - loss: 0.0189 - val_loss: 0.0274\n",
            "Epoch 29/400\n",
            "2/2 [==============================] - 0s 28ms/step - loss: 0.0184 - val_loss: 0.0272\n",
            "Epoch 30/400\n",
            "2/2 [==============================] - 0s 29ms/step - loss: 0.0179 - val_loss: 0.0268\n",
            "Epoch 31/400\n",
            "2/2 [==============================] - 0s 26ms/step - loss: 0.0173 - val_loss: 0.0264\n",
            "Epoch 32/400\n",
            "2/2 [==============================] - 0s 28ms/step - loss: 0.0168 - val_loss: 0.0258\n",
            "Epoch 33/400\n",
            "2/2 [==============================] - 0s 35ms/step - loss: 0.0163 - val_loss: 0.0253\n",
            "Epoch 34/400\n",
            "2/2 [==============================] - 0s 28ms/step - loss: 0.0159 - val_loss: 0.0249\n",
            "Epoch 35/400\n",
            "2/2 [==============================] - 0s 28ms/step - loss: 0.0154 - val_loss: 0.0244\n",
            "Epoch 36/400\n",
            "2/2 [==============================] - 0s 31ms/step - loss: 0.0149 - val_loss: 0.0240\n",
            "Epoch 37/400\n",
            "2/2 [==============================] - 0s 27ms/step - loss: 0.0145 - val_loss: 0.0235\n",
            "Epoch 38/400\n",
            "2/2 [==============================] - 0s 32ms/step - loss: 0.0141 - val_loss: 0.0231\n",
            "Epoch 39/400\n",
            "2/2 [==============================] - 0s 29ms/step - loss: 0.0137 - val_loss: 0.0228\n",
            "Epoch 40/400\n",
            "2/2 [==============================] - 0s 29ms/step - loss: 0.0134 - val_loss: 0.0226\n",
            "Epoch 41/400\n",
            "2/2 [==============================] - 0s 29ms/step - loss: 0.0130 - val_loss: 0.0225\n",
            "Epoch 42/400\n",
            "2/2 [==============================] - 0s 28ms/step - loss: 0.0128 - val_loss: 0.0224\n",
            "Epoch 43/400\n",
            "2/2 [==============================] - 0s 27ms/step - loss: 0.0126 - val_loss: 0.0221\n",
            "Epoch 44/400\n",
            "2/2 [==============================] - 0s 28ms/step - loss: 0.0123 - val_loss: 0.0217\n",
            "Epoch 45/400\n",
            "2/2 [==============================] - 0s 28ms/step - loss: 0.0120 - val_loss: 0.0212\n",
            "Epoch 46/400\n",
            "2/2 [==============================] - 0s 29ms/step - loss: 0.0118 - val_loss: 0.0209\n",
            "Epoch 47/400\n",
            "2/2 [==============================] - 0s 27ms/step - loss: 0.0116 - val_loss: 0.0210\n",
            "Epoch 48/400\n",
            "2/2 [==============================] - 0s 26ms/step - loss: 0.0114 - val_loss: 0.0214\n",
            "Epoch 49/400\n",
            "2/2 [==============================] - 0s 28ms/step - loss: 0.0112 - val_loss: 0.0219\n",
            "Epoch 50/400\n",
            "2/2 [==============================] - 0s 26ms/step - loss: 0.0110 - val_loss: 0.0226\n",
            "Epoch 51/400\n",
            "2/2 [==============================] - 0s 28ms/step - loss: 0.0110 - val_loss: 0.0226\n",
            "Epoch 52/400\n",
            "2/2 [==============================] - 0s 30ms/step - loss: 0.0109 - val_loss: 0.0221\n",
            "Epoch 53/400\n",
            "2/2 [==============================] - 0s 29ms/step - loss: 0.0106 - val_loss: 0.0217\n",
            "Epoch 54/400\n",
            "2/2 [==============================] - 0s 27ms/step - loss: 0.0105 - val_loss: 0.0211\n",
            "Epoch 55/400\n",
            "2/2 [==============================] - 0s 30ms/step - loss: 0.0103 - val_loss: 0.0203\n",
            "Epoch 56/400\n",
            "2/2 [==============================] - 0s 26ms/step - loss: 0.0100 - val_loss: 0.0195\n",
            "Epoch 57/400\n",
            "2/2 [==============================] - 0s 34ms/step - loss: 0.0099 - val_loss: 0.0188\n",
            "Epoch 58/400\n",
            "2/2 [==============================] - 0s 33ms/step - loss: 0.0097 - val_loss: 0.0184\n",
            "Epoch 59/400\n",
            "2/2 [==============================] - 0s 27ms/step - loss: 0.0096 - val_loss: 0.0183\n",
            "Epoch 60/400\n",
            "2/2 [==============================] - 0s 27ms/step - loss: 0.0095 - val_loss: 0.0187\n",
            "Epoch 61/400\n",
            "2/2 [==============================] - 0s 33ms/step - loss: 0.0094 - val_loss: 0.0192\n",
            "Epoch 62/400\n",
            "2/2 [==============================] - 0s 28ms/step - loss: 0.0094 - val_loss: 0.0192\n",
            "Epoch 63/400\n",
            "2/2 [==============================] - 0s 28ms/step - loss: 0.0093 - val_loss: 0.0186\n",
            "Epoch 64/400\n",
            "2/2 [==============================] - 0s 29ms/step - loss: 0.0091 - val_loss: 0.0181\n",
            "Epoch 65/400\n",
            "2/2 [==============================] - 0s 30ms/step - loss: 0.0089 - val_loss: 0.0179\n",
            "Epoch 66/400\n",
            "2/2 [==============================] - 0s 33ms/step - loss: 0.0088 - val_loss: 0.0181\n",
            "Epoch 67/400\n",
            "2/2 [==============================] - 0s 27ms/step - loss: 0.0087 - val_loss: 0.0182\n",
            "Epoch 68/400\n",
            "2/2 [==============================] - 0s 30ms/step - loss: 0.0086 - val_loss: 0.0179\n",
            "Epoch 69/400\n",
            "2/2 [==============================] - 0s 28ms/step - loss: 0.0085 - val_loss: 0.0177\n",
            "Epoch 70/400\n",
            "2/2 [==============================] - 0s 46ms/step - loss: 0.0084 - val_loss: 0.0177\n",
            "Epoch 71/400\n",
            "2/2 [==============================] - 0s 26ms/step - loss: 0.0084 - val_loss: 0.0177\n",
            "Epoch 72/400\n",
            "2/2 [==============================] - 0s 25ms/step - loss: 0.0083 - val_loss: 0.0175\n",
            "Epoch 73/400\n",
            "2/2 [==============================] - 0s 28ms/step - loss: 0.0082 - val_loss: 0.0174\n",
            "Epoch 74/400\n",
            "2/2 [==============================] - 0s 27ms/step - loss: 0.0080 - val_loss: 0.0173\n",
            "Epoch 75/400\n",
            "2/2 [==============================] - 0s 30ms/step - loss: 0.0079 - val_loss: 0.0172\n",
            "Epoch 76/400\n",
            "2/2 [==============================] - 0s 27ms/step - loss: 0.0078 - val_loss: 0.0170\n",
            "Epoch 77/400\n",
            "2/2 [==============================] - 0s 25ms/step - loss: 0.0077 - val_loss: 0.0165\n",
            "Epoch 78/400\n",
            "2/2 [==============================] - 0s 25ms/step - loss: 0.0077 - val_loss: 0.0161\n",
            "Epoch 79/400\n",
            "2/2 [==============================] - 0s 28ms/step - loss: 0.0076 - val_loss: 0.0161\n",
            "Epoch 80/400\n",
            "2/2 [==============================] - 0s 28ms/step - loss: 0.0075 - val_loss: 0.0164\n",
            "Epoch 81/400\n",
            "2/2 [==============================] - 0s 37ms/step - loss: 0.0073 - val_loss: 0.0170\n",
            "Epoch 82/400\n",
            "2/2 [==============================] - 0s 27ms/step - loss: 0.0072 - val_loss: 0.0177\n",
            "Epoch 83/400\n",
            "2/2 [==============================] - 0s 30ms/step - loss: 0.0070 - val_loss: 0.0177\n",
            "Epoch 84/400\n",
            "2/2 [==============================] - 0s 30ms/step - loss: 0.0069 - val_loss: 0.0173\n",
            "Epoch 85/400\n",
            "2/2 [==============================] - 0s 28ms/step - loss: 0.0067 - val_loss: 0.0166\n",
            "Epoch 86/400\n",
            "2/2 [==============================] - 0s 28ms/step - loss: 0.0066 - val_loss: 0.0160\n",
            "Epoch 87/400\n",
            "2/2 [==============================] - 0s 31ms/step - loss: 0.0066 - val_loss: 0.0157\n",
            "Epoch 88/400\n",
            "2/2 [==============================] - 0s 28ms/step - loss: 0.0065 - val_loss: 0.0160\n",
            "Epoch 89/400\n",
            "2/2 [==============================] - 0s 29ms/step - loss: 0.0063 - val_loss: 0.0166\n",
            "Epoch 90/400\n",
            "2/2 [==============================] - 0s 31ms/step - loss: 0.0063 - val_loss: 0.0171\n",
            "Epoch 91/400\n",
            "2/2 [==============================] - 0s 29ms/step - loss: 0.0063 - val_loss: 0.0171\n",
            "Epoch 92/400\n",
            "2/2 [==============================] - 0s 26ms/step - loss: 0.0062 - val_loss: 0.0164\n",
            "Epoch 93/400\n",
            "2/2 [==============================] - 0s 27ms/step - loss: 0.0060 - val_loss: 0.0156\n",
            "Epoch 94/400\n",
            "2/2 [==============================] - 0s 31ms/step - loss: 0.0060 - val_loss: 0.0153\n",
            "Epoch 95/400\n",
            "2/2 [==============================] - 0s 28ms/step - loss: 0.0059 - val_loss: 0.0152\n",
            "Epoch 96/400\n",
            "2/2 [==============================] - 0s 27ms/step - loss: 0.0058 - val_loss: 0.0150\n",
            "Epoch 97/400\n",
            "2/2 [==============================] - 0s 31ms/step - loss: 0.0057 - val_loss: 0.0153\n",
            "Epoch 98/400\n",
            "2/2 [==============================] - 0s 27ms/step - loss: 0.0057 - val_loss: 0.0157\n",
            "Epoch 99/400\n",
            "2/2 [==============================] - 0s 29ms/step - loss: 0.0056 - val_loss: 0.0159\n",
            "Epoch 100/400\n",
            "2/2 [==============================] - 0s 33ms/step - loss: 0.0056 - val_loss: 0.0155\n",
            "Epoch 101/400\n",
            "2/2 [==============================] - 0s 27ms/step - loss: 0.0055 - val_loss: 0.0146\n",
            "Epoch 102/400\n",
            "2/2 [==============================] - 0s 36ms/step - loss: 0.0055 - val_loss: 0.0141\n",
            "Epoch 103/400\n",
            "2/2 [==============================] - 0s 42ms/step - loss: 0.0054 - val_loss: 0.0141\n",
            "Epoch 104/400\n",
            "2/2 [==============================] - 0s 28ms/step - loss: 0.0053 - val_loss: 0.0141\n",
            "Epoch 105/400\n",
            "2/2 [==============================] - 0s 40ms/step - loss: 0.0052 - val_loss: 0.0143\n",
            "Epoch 106/400\n",
            "2/2 [==============================] - 0s 28ms/step - loss: 0.0052 - val_loss: 0.0146\n",
            "Epoch 107/400\n",
            "2/2 [==============================] - 0s 29ms/step - loss: 0.0051 - val_loss: 0.0145\n",
            "Epoch 108/400\n",
            "2/2 [==============================] - 0s 30ms/step - loss: 0.0051 - val_loss: 0.0145\n",
            "Epoch 109/400\n",
            "2/2 [==============================] - 0s 29ms/step - loss: 0.0050 - val_loss: 0.0143\n",
            "Epoch 110/400\n",
            "2/2 [==============================] - 0s 28ms/step - loss: 0.0050 - val_loss: 0.0140\n",
            "Epoch 111/400\n",
            "2/2 [==============================] - 0s 26ms/step - loss: 0.0049 - val_loss: 0.0136\n",
            "Epoch 112/400\n",
            "2/2 [==============================] - 0s 29ms/step - loss: 0.0048 - val_loss: 0.0136\n",
            "Epoch 113/400\n",
            "2/2 [==============================] - 0s 26ms/step - loss: 0.0048 - val_loss: 0.0135\n",
            "Epoch 114/400\n",
            "2/2 [==============================] - 0s 30ms/step - loss: 0.0048 - val_loss: 0.0137\n",
            "Epoch 115/400\n",
            "2/2 [==============================] - 0s 34ms/step - loss: 0.0048 - val_loss: 0.0138\n",
            "Epoch 116/400\n",
            "2/2 [==============================] - 0s 27ms/step - loss: 0.0047 - val_loss: 0.0134\n",
            "Epoch 117/400\n",
            "2/2 [==============================] - 0s 27ms/step - loss: 0.0047 - val_loss: 0.0129\n",
            "Epoch 118/400\n",
            "2/2 [==============================] - 0s 27ms/step - loss: 0.0046 - val_loss: 0.0127\n",
            "Epoch 119/400\n",
            "2/2 [==============================] - 0s 26ms/step - loss: 0.0046 - val_loss: 0.0129\n",
            "Epoch 120/400\n",
            "2/2 [==============================] - 0s 26ms/step - loss: 0.0045 - val_loss: 0.0130\n",
            "Epoch 121/400\n",
            "2/2 [==============================] - 0s 27ms/step - loss: 0.0045 - val_loss: 0.0128\n",
            "Epoch 122/400\n",
            "2/2 [==============================] - 0s 34ms/step - loss: 0.0044 - val_loss: 0.0127\n",
            "Epoch 123/400\n",
            "2/2 [==============================] - 0s 28ms/step - loss: 0.0044 - val_loss: 0.0126\n",
            "Epoch 124/400\n",
            "2/2 [==============================] - 0s 26ms/step - loss: 0.0044 - val_loss: 0.0124\n",
            "Epoch 125/400\n",
            "2/2 [==============================] - 0s 28ms/step - loss: 0.0043 - val_loss: 0.0123\n",
            "Epoch 126/400\n",
            "2/2 [==============================] - 0s 27ms/step - loss: 0.0043 - val_loss: 0.0125\n",
            "Epoch 127/400\n",
            "2/2 [==============================] - 0s 28ms/step - loss: 0.0043 - val_loss: 0.0130\n",
            "Epoch 128/400\n",
            "2/2 [==============================] - 0s 27ms/step - loss: 0.0043 - val_loss: 0.0127\n",
            "Epoch 129/400\n",
            "2/2 [==============================] - 0s 32ms/step - loss: 0.0043 - val_loss: 0.0120\n",
            "Epoch 130/400\n",
            "2/2 [==============================] - 0s 35ms/step - loss: 0.0042 - val_loss: 0.0119\n",
            "Epoch 131/400\n",
            "2/2 [==============================] - 0s 30ms/step - loss: 0.0041 - val_loss: 0.0121\n",
            "Epoch 132/400\n",
            "2/2 [==============================] - 0s 29ms/step - loss: 0.0041 - val_loss: 0.0123\n",
            "Epoch 133/400\n",
            "2/2 [==============================] - 0s 29ms/step - loss: 0.0040 - val_loss: 0.0122\n",
            "Epoch 134/400\n",
            "2/2 [==============================] - 0s 27ms/step - loss: 0.0040 - val_loss: 0.0121\n",
            "Epoch 135/400\n",
            "2/2 [==============================] - 0s 28ms/step - loss: 0.0040 - val_loss: 0.0119\n",
            "Epoch 136/400\n",
            "2/2 [==============================] - 0s 36ms/step - loss: 0.0040 - val_loss: 0.0118\n",
            "Epoch 137/400\n",
            "2/2 [==============================] - 0s 35ms/step - loss: 0.0040 - val_loss: 0.0118\n",
            "Epoch 138/400\n",
            "2/2 [==============================] - 0s 35ms/step - loss: 0.0039 - val_loss: 0.0119\n",
            "Epoch 139/400\n",
            "2/2 [==============================] - 0s 31ms/step - loss: 0.0039 - val_loss: 0.0118\n",
            "Epoch 140/400\n",
            "2/2 [==============================] - 0s 39ms/step - loss: 0.0039 - val_loss: 0.0117\n",
            "Epoch 141/400\n",
            "2/2 [==============================] - 0s 34ms/step - loss: 0.0039 - val_loss: 0.0117\n",
            "Epoch 142/400\n",
            "2/2 [==============================] - 0s 33ms/step - loss: 0.0038 - val_loss: 0.0117\n",
            "Epoch 143/400\n",
            "2/2 [==============================] - 0s 29ms/step - loss: 0.0038 - val_loss: 0.0116\n",
            "Epoch 144/400\n",
            "2/2 [==============================] - 0s 31ms/step - loss: 0.0038 - val_loss: 0.0115\n",
            "Epoch 145/400\n",
            "2/2 [==============================] - 0s 35ms/step - loss: 0.0038 - val_loss: 0.0113\n",
            "Epoch 146/400\n",
            "2/2 [==============================] - 0s 27ms/step - loss: 0.0037 - val_loss: 0.0110\n",
            "Epoch 147/400\n",
            "2/2 [==============================] - 0s 27ms/step - loss: 0.0038 - val_loss: 0.0113\n",
            "Epoch 148/400\n",
            "2/2 [==============================] - 0s 28ms/step - loss: 0.0037 - val_loss: 0.0121\n",
            "Epoch 149/400\n",
            "2/2 [==============================] - 0s 27ms/step - loss: 0.0037 - val_loss: 0.0123\n",
            "Epoch 150/400\n",
            "2/2 [==============================] - 0s 35ms/step - loss: 0.0037 - val_loss: 0.0118\n",
            "Epoch 151/400\n",
            "2/2 [==============================] - 0s 27ms/step - loss: 0.0036 - val_loss: 0.0110\n",
            "Epoch 152/400\n",
            "2/2 [==============================] - 0s 28ms/step - loss: 0.0036 - val_loss: 0.0107\n",
            "Epoch 153/400\n",
            "2/2 [==============================] - 0s 38ms/step - loss: 0.0037 - val_loss: 0.0108\n",
            "Epoch 154/400\n",
            "2/2 [==============================] - 0s 29ms/step - loss: 0.0036 - val_loss: 0.0114\n",
            "Epoch 155/400\n",
            "2/2 [==============================] - 0s 26ms/step - loss: 0.0035 - val_loss: 0.0121\n",
            "Epoch 156/400\n",
            "2/2 [==============================] - 0s 31ms/step - loss: 0.0036 - val_loss: 0.0122\n",
            "Epoch 157/400\n",
            "2/2 [==============================] - 0s 32ms/step - loss: 0.0036 - val_loss: 0.0114\n",
            "Epoch 158/400\n",
            "2/2 [==============================] - 0s 27ms/step - loss: 0.0035 - val_loss: 0.0106\n",
            "Epoch 159/400\n",
            "2/2 [==============================] - 0s 34ms/step - loss: 0.0035 - val_loss: 0.0103\n",
            "Epoch 160/400\n",
            "2/2 [==============================] - 0s 28ms/step - loss: 0.0036 - val_loss: 0.0107\n",
            "Epoch 161/400\n",
            "2/2 [==============================] - 0s 29ms/step - loss: 0.0034 - val_loss: 0.0116\n",
            "Epoch 162/400\n",
            "2/2 [==============================] - 0s 31ms/step - loss: 0.0035 - val_loss: 0.0123\n",
            "Epoch 163/400\n",
            "2/2 [==============================] - 0s 29ms/step - loss: 0.0036 - val_loss: 0.0115\n",
            "Epoch 164/400\n",
            "2/2 [==============================] - 0s 31ms/step - loss: 0.0034 - val_loss: 0.0107\n",
            "Epoch 165/400\n",
            "2/2 [==============================] - 0s 29ms/step - loss: 0.0034 - val_loss: 0.0103\n",
            "Epoch 166/400\n",
            "2/2 [==============================] - 0s 29ms/step - loss: 0.0035 - val_loss: 0.0104\n",
            "Epoch 167/400\n",
            "2/2 [==============================] - 0s 40ms/step - loss: 0.0034 - val_loss: 0.0111\n",
            "Epoch 168/400\n",
            "2/2 [==============================] - 0s 30ms/step - loss: 0.0033 - val_loss: 0.0118\n",
            "Epoch 169/400\n",
            "2/2 [==============================] - 0s 28ms/step - loss: 0.0035 - val_loss: 0.0117\n",
            "Epoch 170/400\n",
            "2/2 [==============================] - 0s 29ms/step - loss: 0.0034 - val_loss: 0.0109\n",
            "Epoch 171/400\n",
            "2/2 [==============================] - 0s 29ms/step - loss: 0.0033 - val_loss: 0.0103\n",
            "Epoch 172/400\n",
            "2/2 [==============================] - 0s 28ms/step - loss: 0.0033 - val_loss: 0.0104\n",
            "Epoch 173/400\n",
            "2/2 [==============================] - 0s 31ms/step - loss: 0.0033 - val_loss: 0.0107\n",
            "Epoch 174/400\n",
            "2/2 [==============================] - 0s 28ms/step - loss: 0.0033 - val_loss: 0.0110\n",
            "Epoch 175/400\n",
            "2/2 [==============================] - 0s 27ms/step - loss: 0.0032 - val_loss: 0.0109\n",
            "Epoch 176/400\n",
            "2/2 [==============================] - 0s 26ms/step - loss: 0.0032 - val_loss: 0.0107\n",
            "Epoch 177/400\n",
            "2/2 [==============================] - 0s 58ms/step - loss: 0.0033 - val_loss: 0.0108\n",
            "Epoch 178/400\n",
            "2/2 [==============================] - 0s 29ms/step - loss: 0.0032 - val_loss: 0.0112\n",
            "Epoch 179/400\n",
            "2/2 [==============================] - 0s 28ms/step - loss: 0.0032 - val_loss: 0.0115\n",
            "Epoch 180/400\n",
            "2/2 [==============================] - 0s 44ms/step - loss: 0.0032 - val_loss: 0.0114\n",
            "Epoch 181/400\n",
            "2/2 [==============================] - 0s 26ms/step - loss: 0.0032 - val_loss: 0.0112\n",
            "Epoch 182/400\n",
            "2/2 [==============================] - 0s 29ms/step - loss: 0.0031 - val_loss: 0.0113\n",
            "Epoch 183/400\n",
            "2/2 [==============================] - 0s 32ms/step - loss: 0.0031 - val_loss: 0.0114\n",
            "Epoch 184/400\n",
            "2/2 [==============================] - 0s 28ms/step - loss: 0.0031 - val_loss: 0.0116\n",
            "Epoch 185/400\n",
            "2/2 [==============================] - 0s 28ms/step - loss: 0.0031 - val_loss: 0.0118\n",
            "Epoch 186/400\n",
            "2/2 [==============================] - 0s 27ms/step - loss: 0.0031 - val_loss: 0.0119\n",
            "Epoch 187/400\n",
            "2/2 [==============================] - 0s 39ms/step - loss: 0.0031 - val_loss: 0.0117\n",
            "Epoch 188/400\n",
            "2/2 [==============================] - 0s 49ms/step - loss: 0.0031 - val_loss: 0.0113\n",
            "Epoch 189/400\n",
            "2/2 [==============================] - 0s 30ms/step - loss: 0.0031 - val_loss: 0.0111\n",
            "Epoch 190/400\n",
            "2/2 [==============================] - 0s 27ms/step - loss: 0.0031 - val_loss: 0.0109\n",
            "Epoch 191/400\n",
            "2/2 [==============================] - 0s 31ms/step - loss: 0.0030 - val_loss: 0.0109\n",
            "Epoch 192/400\n",
            "2/2 [==============================] - 0s 27ms/step - loss: 0.0030 - val_loss: 0.0109\n",
            "Epoch 193/400\n",
            "2/2 [==============================] - 0s 39ms/step - loss: 0.0030 - val_loss: 0.0111\n",
            "Epoch 194/400\n",
            "2/2 [==============================] - 0s 30ms/step - loss: 0.0030 - val_loss: 0.0114\n",
            "Epoch 195/400\n",
            "2/2 [==============================] - 0s 28ms/step - loss: 0.0030 - val_loss: 0.0114\n",
            "Epoch 196/400\n",
            "2/2 [==============================] - 0s 30ms/step - loss: 0.0030 - val_loss: 0.0113\n",
            "Epoch 197/400\n",
            "2/2 [==============================] - 0s 33ms/step - loss: 0.0030 - val_loss: 0.0111\n",
            "Epoch 198/400\n",
            "2/2 [==============================] - 0s 30ms/step - loss: 0.0030 - val_loss: 0.0108\n",
            "Epoch 199/400\n",
            "2/2 [==============================] - 0s 32ms/step - loss: 0.0030 - val_loss: 0.0109\n",
            "Epoch 200/400\n",
            "2/2 [==============================] - 0s 49ms/step - loss: 0.0030 - val_loss: 0.0113\n",
            "Epoch 201/400\n",
            "2/2 [==============================] - 0s 29ms/step - loss: 0.0030 - val_loss: 0.0116\n",
            "Epoch 202/400\n",
            "2/2 [==============================] - 0s 32ms/step - loss: 0.0030 - val_loss: 0.0112\n",
            "Epoch 203/400\n",
            "2/2 [==============================] - 0s 27ms/step - loss: 0.0029 - val_loss: 0.0109\n",
            "Epoch 204/400\n",
            "2/2 [==============================] - 0s 29ms/step - loss: 0.0029 - val_loss: 0.0110\n",
            "Epoch 205/400\n",
            "2/2 [==============================] - 0s 35ms/step - loss: 0.0029 - val_loss: 0.0109\n",
            "Epoch 206/400\n",
            "2/2 [==============================] - 0s 34ms/step - loss: 0.0029 - val_loss: 0.0109\n",
            "Epoch 207/400\n",
            "2/2 [==============================] - 0s 27ms/step - loss: 0.0029 - val_loss: 0.0112\n",
            "Epoch 208/400\n",
            "2/2 [==============================] - 0s 32ms/step - loss: 0.0029 - val_loss: 0.0112\n",
            "Epoch 209/400\n",
            "2/2 [==============================] - 0s 28ms/step - loss: 0.0029 - val_loss: 0.0110\n",
            "Epoch 210/400\n",
            "2/2 [==============================] - 0s 28ms/step - loss: 0.0029 - val_loss: 0.0110\n",
            "Epoch 211/400\n",
            "2/2 [==============================] - 0s 37ms/step - loss: 0.0028 - val_loss: 0.0111\n",
            "Epoch 212/400\n",
            "2/2 [==============================] - 0s 31ms/step - loss: 0.0028 - val_loss: 0.0112\n",
            "Epoch 213/400\n",
            "2/2 [==============================] - 0s 28ms/step - loss: 0.0028 - val_loss: 0.0115\n",
            "Epoch 214/400\n",
            "2/2 [==============================] - 0s 40ms/step - loss: 0.0028 - val_loss: 0.0118\n",
            "Epoch 215/400\n",
            "2/2 [==============================] - 0s 35ms/step - loss: 0.0029 - val_loss: 0.0113\n",
            "Epoch 216/400\n",
            "2/2 [==============================] - 0s 46ms/step - loss: 0.0028 - val_loss: 0.0108\n",
            "Epoch 217/400\n",
            "2/2 [==============================] - 0s 34ms/step - loss: 0.0028 - val_loss: 0.0109\n",
            "Epoch 218/400\n",
            "2/2 [==============================] - 0s 36ms/step - loss: 0.0028 - val_loss: 0.0115\n",
            "Epoch 219/400\n",
            "2/2 [==============================] - 0s 36ms/step - loss: 0.0028 - val_loss: 0.0116\n",
            "Epoch 220/400\n",
            "2/2 [==============================] - 0s 36ms/step - loss: 0.0027 - val_loss: 0.0112\n",
            "Epoch 221/400\n",
            "2/2 [==============================] - 0s 36ms/step - loss: 0.0027 - val_loss: 0.0108\n",
            "Epoch 222/400\n",
            "2/2 [==============================] - 0s 40ms/step - loss: 0.0028 - val_loss: 0.0110\n",
            "Epoch 223/400\n",
            "2/2 [==============================] - 0s 41ms/step - loss: 0.0027 - val_loss: 0.0113\n",
            "Epoch 224/400\n",
            "2/2 [==============================] - 0s 43ms/step - loss: 0.0027 - val_loss: 0.0114\n",
            "Epoch 225/400\n",
            "2/2 [==============================] - 0s 34ms/step - loss: 0.0027 - val_loss: 0.0111\n",
            "Epoch 226/400\n",
            "2/2 [==============================] - 0s 68ms/step - loss: 0.0027 - val_loss: 0.0110\n",
            "Epoch 227/400\n",
            "2/2 [==============================] - 0s 58ms/step - loss: 0.0027 - val_loss: 0.0111\n",
            "Epoch 228/400\n",
            "2/2 [==============================] - 0s 34ms/step - loss: 0.0026 - val_loss: 0.0113\n",
            "Epoch 229/400\n",
            "2/2 [==============================] - 0s 33ms/step - loss: 0.0026 - val_loss: 0.0111\n",
            "Epoch 230/400\n",
            "2/2 [==============================] - 0s 33ms/step - loss: 0.0026 - val_loss: 0.0110\n",
            "Epoch 231/400\n",
            "2/2 [==============================] - 0s 37ms/step - loss: 0.0026 - val_loss: 0.0111\n",
            "Epoch 232/400\n",
            "2/2 [==============================] - 0s 36ms/step - loss: 0.0026 - val_loss: 0.0114\n",
            "Epoch 233/400\n",
            "2/2 [==============================] - 0s 44ms/step - loss: 0.0026 - val_loss: 0.0116\n",
            "Epoch 234/400\n",
            "2/2 [==============================] - 0s 33ms/step - loss: 0.0026 - val_loss: 0.0113\n",
            "Epoch 235/400\n",
            "2/2 [==============================] - 0s 72ms/step - loss: 0.0026 - val_loss: 0.0111\n",
            "Epoch 236/400\n",
            "2/2 [==============================] - 0s 35ms/step - loss: 0.0026 - val_loss: 0.0115\n",
            "Epoch 237/400\n",
            "2/2 [==============================] - 0s 34ms/step - loss: 0.0026 - val_loss: 0.0115\n",
            "Epoch 238/400\n",
            "2/2 [==============================] - 0s 34ms/step - loss: 0.0026 - val_loss: 0.0113\n",
            "Epoch 239/400\n",
            "2/2 [==============================] - 0s 35ms/step - loss: 0.0026 - val_loss: 0.0112\n",
            "Epoch 240/400\n",
            "2/2 [==============================] - 0s 34ms/step - loss: 0.0025 - val_loss: 0.0110\n",
            "Epoch 241/400\n",
            "2/2 [==============================] - 0s 58ms/step - loss: 0.0025 - val_loss: 0.0109\n",
            "Epoch 242/400\n",
            "2/2 [==============================] - 0s 52ms/step - loss: 0.0025 - val_loss: 0.0108\n",
            "Epoch 243/400\n",
            "2/2 [==============================] - 0s 39ms/step - loss: 0.0025 - val_loss: 0.0110\n",
            "Epoch 244/400\n",
            "2/2 [==============================] - 0s 33ms/step - loss: 0.0025 - val_loss: 0.0116\n",
            "Epoch 245/400\n",
            "2/2 [==============================] - 0s 43ms/step - loss: 0.0026 - val_loss: 0.0116\n",
            "Epoch 246/400\n",
            "2/2 [==============================] - 0s 68ms/step - loss: 0.0025 - val_loss: 0.0112\n",
            "Epoch 247/400\n",
            "2/2 [==============================] - 0s 64ms/step - loss: 0.0025 - val_loss: 0.0110\n",
            "Epoch 248/400\n",
            "2/2 [==============================] - 0s 62ms/step - loss: 0.0025 - val_loss: 0.0110\n",
            "Epoch 249/400\n",
            "2/2 [==============================] - 0s 67ms/step - loss: 0.0025 - val_loss: 0.0112\n",
            "Epoch 250/400\n",
            "2/2 [==============================] - 0s 37ms/step - loss: 0.0025 - val_loss: 0.0113\n",
            "Epoch 251/400\n",
            "2/2 [==============================] - 0s 38ms/step - loss: 0.0025 - val_loss: 0.0112\n",
            "Epoch 252/400\n",
            "2/2 [==============================] - 0s 58ms/step - loss: 0.0025 - val_loss: 0.0112\n",
            "Epoch 253/400\n",
            "2/2 [==============================] - 0s 38ms/step - loss: 0.0025 - val_loss: 0.0114\n",
            "Epoch 254/400\n",
            "2/2 [==============================] - 0s 74ms/step - loss: 0.0025 - val_loss: 0.0117\n",
            "Epoch 255/400\n",
            "2/2 [==============================] - 0s 37ms/step - loss: 0.0025 - val_loss: 0.0113\n",
            "Epoch 256/400\n",
            "2/2 [==============================] - 0s 67ms/step - loss: 0.0024 - val_loss: 0.0110\n",
            "Epoch 257/400\n",
            "2/2 [==============================] - 0s 36ms/step - loss: 0.0024 - val_loss: 0.0110\n",
            "Epoch 258/400\n",
            "2/2 [==============================] - 0s 40ms/step - loss: 0.0024 - val_loss: 0.0112\n",
            "Epoch 259/400\n",
            "2/2 [==============================] - 0s 41ms/step - loss: 0.0025 - val_loss: 0.0110\n",
            "Epoch 260/400\n",
            "2/2 [==============================] - 0s 39ms/step - loss: 0.0024 - val_loss: 0.0109\n",
            "Epoch 261/400\n",
            "2/2 [==============================] - 0s 39ms/step - loss: 0.0024 - val_loss: 0.0110\n",
            "Epoch 262/400\n",
            "2/2 [==============================] - 0s 38ms/step - loss: 0.0024 - val_loss: 0.0114\n",
            "Epoch 263/400\n",
            "2/2 [==============================] - 0s 34ms/step - loss: 0.0025 - val_loss: 0.0118\n",
            "Epoch 264/400\n",
            "2/2 [==============================] - 0s 37ms/step - loss: 0.0024 - val_loss: 0.0119\n",
            "Epoch 265/400\n",
            "2/2 [==============================] - 0s 35ms/step - loss: 0.0024 - val_loss: 0.0116\n",
            "Epoch 266/400\n",
            "2/2 [==============================] - 0s 43ms/step - loss: 0.0024 - val_loss: 0.0113\n",
            "Epoch 267/400\n",
            "2/2 [==============================] - 0s 36ms/step - loss: 0.0024 - val_loss: 0.0114\n",
            "Epoch 268/400\n",
            "2/2 [==============================] - 0s 73ms/step - loss: 0.0024 - val_loss: 0.0117\n",
            "Epoch 269/400\n",
            "2/2 [==============================] - 0s 59ms/step - loss: 0.0023 - val_loss: 0.0121\n",
            "Epoch 270/400\n",
            "2/2 [==============================] - 0s 39ms/step - loss: 0.0024 - val_loss: 0.0122\n",
            "Epoch 271/400\n",
            "2/2 [==============================] - 0s 33ms/step - loss: 0.0024 - val_loss: 0.0119\n",
            "Epoch 272/400\n",
            "2/2 [==============================] - 0s 36ms/step - loss: 0.0024 - val_loss: 0.0115\n",
            "Epoch 273/400\n",
            "2/2 [==============================] - 0s 54ms/step - loss: 0.0025 - val_loss: 0.0115\n",
            "Epoch 274/400\n",
            "2/2 [==============================] - 0s 64ms/step - loss: 0.0024 - val_loss: 0.0119\n",
            "Epoch 275/400\n",
            "2/2 [==============================] - 0s 62ms/step - loss: 0.0024 - val_loss: 0.0121\n",
            "Epoch 276/400\n",
            "2/2 [==============================] - 0s 32ms/step - loss: 0.0023 - val_loss: 0.0115\n",
            "Epoch 277/400\n",
            "2/2 [==============================] - 0s 26ms/step - loss: 0.0023 - val_loss: 0.0112\n",
            "Epoch 278/400\n",
            "2/2 [==============================] - 0s 30ms/step - loss: 0.0023 - val_loss: 0.0113\n",
            "Epoch 279/400\n",
            "2/2 [==============================] - 0s 37ms/step - loss: 0.0023 - val_loss: 0.0117\n",
            "Epoch 280/400\n",
            "2/2 [==============================] - 0s 32ms/step - loss: 0.0023 - val_loss: 0.0117\n",
            "Epoch 281/400\n",
            "2/2 [==============================] - 0s 28ms/step - loss: 0.0023 - val_loss: 0.0121\n",
            "Epoch 282/400\n",
            "2/2 [==============================] - 0s 27ms/step - loss: 0.0023 - val_loss: 0.0124\n",
            "Epoch 283/400\n",
            "2/2 [==============================] - 0s 35ms/step - loss: 0.0023 - val_loss: 0.0119\n",
            "Epoch 284/400\n",
            "2/2 [==============================] - 0s 26ms/step - loss: 0.0022 - val_loss: 0.0110\n",
            "Epoch 285/400\n",
            "2/2 [==============================] - 0s 31ms/step - loss: 0.0023 - val_loss: 0.0107\n",
            "Epoch 286/400\n",
            "2/2 [==============================] - 0s 31ms/step - loss: 0.0023 - val_loss: 0.0112\n",
            "Epoch 287/400\n",
            "2/2 [==============================] - 0s 49ms/step - loss: 0.0023 - val_loss: 0.0120\n",
            "Epoch 288/400\n",
            "2/2 [==============================] - 0s 31ms/step - loss: 0.0023 - val_loss: 0.0122\n",
            "Epoch 289/400\n",
            "2/2 [==============================] - 0s 33ms/step - loss: 0.0022 - val_loss: 0.0115\n",
            "Epoch 290/400\n",
            "2/2 [==============================] - 0s 30ms/step - loss: 0.0023 - val_loss: 0.0113\n",
            "Epoch 291/400\n",
            "2/2 [==============================] - 0s 32ms/step - loss: 0.0023 - val_loss: 0.0116\n",
            "Epoch 292/400\n",
            "2/2 [==============================] - 0s 30ms/step - loss: 0.0022 - val_loss: 0.0124\n",
            "Epoch 293/400\n",
            "2/2 [==============================] - 0s 29ms/step - loss: 0.0024 - val_loss: 0.0121\n",
            "Epoch 294/400\n",
            "2/2 [==============================] - 0s 31ms/step - loss: 0.0023 - val_loss: 0.0109\n",
            "Epoch 295/400\n",
            "2/2 [==============================] - 0s 28ms/step - loss: 0.0022 - val_loss: 0.0106\n",
            "Epoch 296/400\n",
            "2/2 [==============================] - 0s 30ms/step - loss: 0.0024 - val_loss: 0.0112\n",
            "Epoch 297/400\n",
            "2/2 [==============================] - 0s 38ms/step - loss: 0.0023 - val_loss: 0.0125\n",
            "Epoch 298/400\n",
            "2/2 [==============================] - 0s 30ms/step - loss: 0.0023 - val_loss: 0.0130\n",
            "Epoch 299/400\n",
            "2/2 [==============================] - 0s 32ms/step - loss: 0.0023 - val_loss: 0.0122\n",
            "Epoch 300/400\n",
            "2/2 [==============================] - 0s 28ms/step - loss: 0.0022 - val_loss: 0.0112\n",
            "Epoch 301/400\n",
            "2/2 [==============================] - 0s 31ms/step - loss: 0.0022 - val_loss: 0.0109\n",
            "Epoch 302/400\n",
            "2/2 [==============================] - 0s 30ms/step - loss: 0.0022 - val_loss: 0.0115\n",
            "Epoch 303/400\n",
            "2/2 [==============================] - 0s 32ms/step - loss: 0.0022 - val_loss: 0.0121\n",
            "Epoch 304/400\n",
            "2/2 [==============================] - 0s 31ms/step - loss: 0.0022 - val_loss: 0.0123\n",
            "Epoch 305/400\n",
            "2/2 [==============================] - 0s 30ms/step - loss: 0.0022 - val_loss: 0.0118\n",
            "Epoch 306/400\n",
            "2/2 [==============================] - 0s 35ms/step - loss: 0.0022 - val_loss: 0.0116\n",
            "Epoch 307/400\n",
            "2/2 [==============================] - 0s 29ms/step - loss: 0.0021 - val_loss: 0.0120\n",
            "Epoch 308/400\n",
            "2/2 [==============================] - 0s 31ms/step - loss: 0.0021 - val_loss: 0.0123\n",
            "Epoch 309/400\n",
            "2/2 [==============================] - 0s 29ms/step - loss: 0.0022 - val_loss: 0.0118\n",
            "Epoch 310/400\n",
            "2/2 [==============================] - 0s 29ms/step - loss: 0.0021 - val_loss: 0.0111\n",
            "Epoch 311/400\n",
            "2/2 [==============================] - 0s 33ms/step - loss: 0.0022 - val_loss: 0.0113\n",
            "Epoch 312/400\n",
            "2/2 [==============================] - 0s 35ms/step - loss: 0.0022 - val_loss: 0.0121\n",
            "Epoch 313/400\n",
            "2/2 [==============================] - 0s 30ms/step - loss: 0.0021 - val_loss: 0.0122\n",
            "Epoch 314/400\n",
            "2/2 [==============================] - 0s 29ms/step - loss: 0.0022 - val_loss: 0.0115\n",
            "Epoch 315/400\n",
            "2/2 [==============================] - 0s 34ms/step - loss: 0.0021 - val_loss: 0.0112\n",
            "Epoch 316/400\n",
            "2/2 [==============================] - 0s 30ms/step - loss: 0.0021 - val_loss: 0.0116\n",
            "Epoch 317/400\n",
            "2/2 [==============================] - 0s 34ms/step - loss: 0.0021 - val_loss: 0.0122\n",
            "Epoch 318/400\n",
            "2/2 [==============================] - 0s 36ms/step - loss: 0.0022 - val_loss: 0.0120\n",
            "Epoch 319/400\n",
            "2/2 [==============================] - 0s 32ms/step - loss: 0.0021 - val_loss: 0.0112\n",
            "Epoch 320/400\n",
            "2/2 [==============================] - 0s 31ms/step - loss: 0.0022 - val_loss: 0.0110\n",
            "Epoch 321/400\n",
            "2/2 [==============================] - 0s 28ms/step - loss: 0.0022 - val_loss: 0.0118\n",
            "Epoch 322/400\n",
            "2/2 [==============================] - 0s 30ms/step - loss: 0.0021 - val_loss: 0.0125\n",
            "Epoch 323/400\n",
            "2/2 [==============================] - 0s 33ms/step - loss: 0.0021 - val_loss: 0.0123\n",
            "Epoch 324/400\n",
            "2/2 [==============================] - 0s 28ms/step - loss: 0.0021 - val_loss: 0.0116\n",
            "Epoch 325/400\n",
            "2/2 [==============================] - 0s 29ms/step - loss: 0.0021 - val_loss: 0.0111\n",
            "Epoch 326/400\n",
            "2/2 [==============================] - 0s 63ms/step - loss: 0.0021 - val_loss: 0.0110\n",
            "Epoch 327/400\n",
            "2/2 [==============================] - 0s 36ms/step - loss: 0.0021 - val_loss: 0.0114\n",
            "Epoch 328/400\n",
            "2/2 [==============================] - 0s 31ms/step - loss: 0.0021 - val_loss: 0.0120\n",
            "Epoch 329/400\n",
            "2/2 [==============================] - 0s 30ms/step - loss: 0.0021 - val_loss: 0.0122\n",
            "Epoch 330/400\n",
            "2/2 [==============================] - 0s 32ms/step - loss: 0.0021 - val_loss: 0.0122\n",
            "Epoch 331/400\n",
            "2/2 [==============================] - 0s 31ms/step - loss: 0.0021 - val_loss: 0.0118\n",
            "Epoch 332/400\n",
            "2/2 [==============================] - 0s 27ms/step - loss: 0.0021 - val_loss: 0.0116\n",
            "Epoch 333/400\n",
            "2/2 [==============================] - 0s 28ms/step - loss: 0.0021 - val_loss: 0.0118\n",
            "Epoch 334/400\n",
            "2/2 [==============================] - 0s 30ms/step - loss: 0.0020 - val_loss: 0.0117\n",
            "Epoch 335/400\n",
            "2/2 [==============================] - 0s 30ms/step - loss: 0.0020 - val_loss: 0.0119\n",
            "Epoch 336/400\n",
            "2/2 [==============================] - 0s 35ms/step - loss: 0.0020 - val_loss: 0.0126\n",
            "Epoch 337/400\n",
            "2/2 [==============================] - 0s 34ms/step - loss: 0.0020 - val_loss: 0.0133\n",
            "Epoch 338/400\n",
            "2/2 [==============================] - 0s 29ms/step - loss: 0.0021 - val_loss: 0.0131\n",
            "Epoch 339/400\n",
            "2/2 [==============================] - 0s 30ms/step - loss: 0.0021 - val_loss: 0.0122\n",
            "Epoch 340/400\n",
            "2/2 [==============================] - 0s 30ms/step - loss: 0.0020 - val_loss: 0.0115\n",
            "Epoch 341/400\n",
            "2/2 [==============================] - 0s 31ms/step - loss: 0.0020 - val_loss: 0.0113\n",
            "Epoch 342/400\n",
            "2/2 [==============================] - 0s 29ms/step - loss: 0.0020 - val_loss: 0.0118\n",
            "Epoch 343/400\n",
            "2/2 [==============================] - 0s 28ms/step - loss: 0.0020 - val_loss: 0.0128\n",
            "Epoch 344/400\n",
            "2/2 [==============================] - 0s 36ms/step - loss: 0.0020 - val_loss: 0.0135\n",
            "Epoch 345/400\n",
            "2/2 [==============================] - 0s 34ms/step - loss: 0.0021 - val_loss: 0.0128\n",
            "Epoch 346/400\n",
            "2/2 [==============================] - 0s 29ms/step - loss: 0.0020 - val_loss: 0.0114\n",
            "Epoch 347/400\n",
            "2/2 [==============================] - 0s 30ms/step - loss: 0.0021 - val_loss: 0.0112\n",
            "Epoch 348/400\n",
            "2/2 [==============================] - 0s 30ms/step - loss: 0.0020 - val_loss: 0.0122\n",
            "Epoch 349/400\n",
            "2/2 [==============================] - 0s 34ms/step - loss: 0.0020 - val_loss: 0.0132\n",
            "Epoch 350/400\n",
            "2/2 [==============================] - 0s 33ms/step - loss: 0.0021 - val_loss: 0.0125\n",
            "Epoch 351/400\n",
            "2/2 [==============================] - 0s 33ms/step - loss: 0.0020 - val_loss: 0.0118\n",
            "Epoch 352/400\n",
            "2/2 [==============================] - 0s 31ms/step - loss: 0.0021 - val_loss: 0.0120\n",
            "Epoch 353/400\n",
            "2/2 [==============================] - 0s 32ms/step - loss: 0.0020 - val_loss: 0.0124\n",
            "Epoch 354/400\n",
            "2/2 [==============================] - 0s 35ms/step - loss: 0.0020 - val_loss: 0.0123\n",
            "Epoch 355/400\n",
            "2/2 [==============================] - 0s 30ms/step - loss: 0.0020 - val_loss: 0.0116\n",
            "Epoch 356/400\n",
            "2/2 [==============================] - 0s 36ms/step - loss: 0.0020 - val_loss: 0.0111\n",
            "Epoch 357/400\n",
            "2/2 [==============================] - 0s 33ms/step - loss: 0.0020 - val_loss: 0.0114\n",
            "Epoch 358/400\n",
            "2/2 [==============================] - 0s 33ms/step - loss: 0.0020 - val_loss: 0.0122\n",
            "Epoch 359/400\n",
            "2/2 [==============================] - 0s 30ms/step - loss: 0.0019 - val_loss: 0.0130\n",
            "Epoch 360/400\n",
            "2/2 [==============================] - 0s 32ms/step - loss: 0.0020 - val_loss: 0.0132\n",
            "Epoch 361/400\n",
            "2/2 [==============================] - 0s 29ms/step - loss: 0.0020 - val_loss: 0.0122\n",
            "Epoch 362/400\n",
            "2/2 [==============================] - 0s 28ms/step - loss: 0.0020 - val_loss: 0.0114\n",
            "Epoch 363/400\n",
            "2/2 [==============================] - 0s 30ms/step - loss: 0.0020 - val_loss: 0.0115\n",
            "Epoch 364/400\n",
            "2/2 [==============================] - 0s 34ms/step - loss: 0.0020 - val_loss: 0.0118\n",
            "Epoch 365/400\n",
            "2/2 [==============================] - 0s 30ms/step - loss: 0.0019 - val_loss: 0.0126\n",
            "Epoch 366/400\n",
            "2/2 [==============================] - 0s 29ms/step - loss: 0.0019 - val_loss: 0.0130\n",
            "Epoch 367/400\n",
            "2/2 [==============================] - 0s 30ms/step - loss: 0.0019 - val_loss: 0.0126\n",
            "Epoch 368/400\n",
            "2/2 [==============================] - 0s 32ms/step - loss: 0.0019 - val_loss: 0.0121\n",
            "Epoch 369/400\n",
            "2/2 [==============================] - 0s 30ms/step - loss: 0.0019 - val_loss: 0.0122\n",
            "Epoch 370/400\n",
            "2/2 [==============================] - 0s 28ms/step - loss: 0.0019 - val_loss: 0.0125\n",
            "Epoch 371/400\n",
            "2/2 [==============================] - 0s 28ms/step - loss: 0.0020 - val_loss: 0.0116\n",
            "Epoch 372/400\n",
            "2/2 [==============================] - 0s 52ms/step - loss: 0.0020 - val_loss: 0.0112\n",
            "Epoch 373/400\n",
            "2/2 [==============================] - 0s 30ms/step - loss: 0.0020 - val_loss: 0.0119\n",
            "Epoch 374/400\n",
            "2/2 [==============================] - 0s 29ms/step - loss: 0.0019 - val_loss: 0.0129\n",
            "Epoch 375/400\n",
            "2/2 [==============================] - 0s 31ms/step - loss: 0.0019 - val_loss: 0.0131\n",
            "Epoch 376/400\n",
            "2/2 [==============================] - 0s 29ms/step - loss: 0.0019 - val_loss: 0.0130\n",
            "Epoch 377/400\n",
            "2/2 [==============================] - 0s 33ms/step - loss: 0.0019 - val_loss: 0.0125\n",
            "Epoch 378/400\n",
            "2/2 [==============================] - 0s 27ms/step - loss: 0.0019 - val_loss: 0.0119\n",
            "Epoch 379/400\n",
            "2/2 [==============================] - 0s 28ms/step - loss: 0.0019 - val_loss: 0.0120\n",
            "Epoch 380/400\n",
            "2/2 [==============================] - 0s 30ms/step - loss: 0.0019 - val_loss: 0.0124\n",
            "Epoch 381/400\n",
            "2/2 [==============================] - 0s 33ms/step - loss: 0.0019 - val_loss: 0.0122\n",
            "Epoch 382/400\n",
            "2/2 [==============================] - 0s 28ms/step - loss: 0.0019 - val_loss: 0.0121\n",
            "Epoch 383/400\n",
            "2/2 [==============================] - 0s 32ms/step - loss: 0.0019 - val_loss: 0.0126\n",
            "Epoch 384/400\n",
            "2/2 [==============================] - 0s 35ms/step - loss: 0.0019 - val_loss: 0.0134\n",
            "Epoch 385/400\n",
            "2/2 [==============================] - 0s 30ms/step - loss: 0.0019 - val_loss: 0.0137\n",
            "Epoch 386/400\n",
            "2/2 [==============================] - 0s 27ms/step - loss: 0.0019 - val_loss: 0.0129\n",
            "Epoch 387/400\n",
            "2/2 [==============================] - 0s 30ms/step - loss: 0.0019 - val_loss: 0.0120\n",
            "Epoch 388/400\n",
            "2/2 [==============================] - 0s 33ms/step - loss: 0.0018 - val_loss: 0.0120\n",
            "Epoch 389/400\n",
            "2/2 [==============================] - 0s 31ms/step - loss: 0.0019 - val_loss: 0.0122\n",
            "Epoch 390/400\n",
            "2/2 [==============================] - 0s 32ms/step - loss: 0.0019 - val_loss: 0.0122\n",
            "Epoch 391/400\n",
            "2/2 [==============================] - 0s 29ms/step - loss: 0.0018 - val_loss: 0.0120\n",
            "Epoch 392/400\n",
            "2/2 [==============================] - 0s 34ms/step - loss: 0.0019 - val_loss: 0.0125\n",
            "Epoch 393/400\n",
            "2/2 [==============================] - 0s 33ms/step - loss: 0.0019 - val_loss: 0.0132\n",
            "Epoch 394/400\n",
            "2/2 [==============================] - 0s 57ms/step - loss: 0.0019 - val_loss: 0.0130\n",
            "Epoch 395/400\n",
            "2/2 [==============================] - 0s 61ms/step - loss: 0.0019 - val_loss: 0.0119\n",
            "Epoch 396/400\n",
            "2/2 [==============================] - 0s 28ms/step - loss: 0.0019 - val_loss: 0.0113\n",
            "Epoch 397/400\n",
            "2/2 [==============================] - 0s 32ms/step - loss: 0.0019 - val_loss: 0.0118\n",
            "Epoch 398/400\n",
            "2/2 [==============================] - 0s 31ms/step - loss: 0.0018 - val_loss: 0.0126\n",
            "Epoch 399/400\n",
            "2/2 [==============================] - 0s 33ms/step - loss: 0.0019 - val_loss: 0.0131\n",
            "Epoch 400/400\n",
            "2/2 [==============================] - 0s 36ms/step - loss: 0.0019 - val_loss: 0.0128\n",
            "Model: \"sequential_1\"\n",
            "_________________________________________________________________\n",
            " Layer (type)                Output Shape              Param #   \n",
            "=================================================================\n",
            " dense_4 (Dense)             (None, 18)                342       \n",
            "                                                                 \n",
            " dense_5 (Dense)             (None, 18)                342       \n",
            "                                                                 \n",
            " dense_6 (Dense)             (None, 18)                342       \n",
            "                                                                 \n",
            " dense_7 (Dense)             (None, 1)                 19        \n",
            "                                                                 \n",
            "=================================================================\n",
            "Total params: 1,045\n",
            "Trainable params: 1,045\n",
            "Non-trainable params: 0\n",
            "_________________________________________________________________\n"
          ]
        }
      ]
    },
    {
      "cell_type": "code",
      "source": [
        "loss_df = pd.DataFrame(model.history.history)\n",
        "loss_df.plot(figsize=(12,8))"
      ],
      "metadata": {
        "colab": {
          "base_uri": "https://localhost:8080/",
          "height": 500
        },
        "id": "-VV5ZM4FWqaJ",
        "outputId": "bce3cf28-650a-4a93-ec23-348d6ac9a56a"
      },
      "execution_count": 36,
      "outputs": [
        {
          "output_type": "execute_result",
          "data": {
            "text/plain": [
              "<matplotlib.axes._subplots.AxesSubplot at 0x7fc8da6dbfd0>"
            ]
          },
          "metadata": {},
          "execution_count": 36
        },
        {
          "output_type": "display_data",
          "data": {
            "text/plain": [
              "<Figure size 864x576 with 1 Axes>"
            ],
            "image/png": "[encoded data removed]"
          },
          "metadata": {
            "needs_background": "light"
          }
        }
      ]
    },
    {
      "cell_type": "code",
      "source": [
        "y_pred = model.predict(X_test)\n",
        "from sklearn import metrics\n",
        "print('MAE:', metrics.mean_absolute_error(y_test, y_pred))  \n",
        "print('MSE:', metrics.mean_squared_error(y_test, y_pred))  \n",
        "print('RMSE:', np.sqrt(metrics.mean_squared_error(y_test, y_pred)))\n",
        "print('VarScore:',metrics.explained_variance_score(y_test,y_pred))\n",
        "# Visualizing Our predictions\n",
        "fig = plt.figure(figsize=(10,5))\n",
        "plt.scatter(y_test,y_pred)\n",
        "# Perfect predictions\n",
        "plt.plot(y_test,y_test,'r')"
      ],
      "metadata": {
        "colab": {
          "base_uri": "https://localhost:8080/",
          "height": 424
        },
        "id": "QLKg6wS9Wt4f",
        "outputId": "00097679-3670-4077-e623-9ec0ff05fe4f"
      },
      "execution_count": 37,
      "outputs": [
        {
          "output_type": "stream",
          "name": "stdout",
          "text": [
            "2/2 [==============================] - 0s 11ms/step\n",
            "MAE: 0.08996572665313625\n",
            "MSE: 0.012757854023948413\n",
            "RMSE: 0.11295067075475211\n",
            "VarScore: 0.8616194191527721\n"
          ]
        },
        {
          "output_type": "execute_result",
          "data": {
            "text/plain": [
              "[<matplotlib.lines.Line2D at 0x7fc8dae92cd0>]"
            ]
          },
          "metadata": {},
          "execution_count": 37
        },
        {
          "output_type": "display_data",
          "data": {
            "text/plain": [
              "<Figure size 720x360 with 1 Axes>"
            ],
            "image/png": "[encoded data removed]"
          },
          "metadata": {
            "needs_background": "light"
          }
        }
      ]
    },
    {
      "cell_type": "markdown",
      "source": [
        "The score of our Linear Regression is around **78%,** so this model had room for improvement. Then we got an accuracy of **86%** with Keras Regression model."
      ],
      "metadata": {
        "id": "RzgjjUJTXcir"
      }
    }
  ]
}